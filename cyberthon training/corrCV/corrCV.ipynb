{
 "cells": [
  {
   "cell_type": "code",
   "execution_count": 3,
   "metadata": {
    "collapsed": true,
    "pycharm": {
     "name": "#%%\n"
    }
   },
   "outputs": [],
   "source": [
    "import cv2\n",
    "import numpy as np\n",
    "import matplotlib.pyplot as plt\n",
    "import pandas as pd\n",
    "import os\n",
    "from scipy.stats import pearsonr"
   ]
  },
  {
   "cell_type": "code",
   "execution_count": 4,
   "outputs": [],
   "source": [
    "df_train = pd.read_csv('train.csv')\n",
    "ans = df_train['correlation']"
   ],
   "metadata": {
    "collapsed": false,
    "pycharm": {
     "name": "#%%\n"
    }
   }
  },
  {
   "cell_type": "code",
   "execution_count": 87,
   "outputs": [],
   "source": [
    "def corr(X, Y):\n",
    "    return pearsonr(X, Y)[0]\n",
    "\n",
    "\n",
    "def corrCV(image, i):\n",
    "    # plt.figure(figsize = (45,30))\n",
    "    image = cv2.cvtColor(image, cv2.COLOR_BGR2GRAY)\n",
    "    # plt.imshow(erosion)\n",
    "    # return\n",
    "    th, threshed = cv2.threshold(image, 105, 255, cv2.THRESH_BINARY)\n",
    "    kernel = np.ones((1, 1),np.uint8)\n",
    "    erosion = cv2.erode(threshed,kernel,iterations = 1)\n",
    "    detected_circles = cv2.HoughCircles(erosion, cv2.HOUGH_GRADIENT, 1, 2, param1 = 20, param2 = 4, minRadius = 2, maxRadius = 3)\n",
    "    contours, hierarchy = cv2.findContours(erosion, cv2.RETR_LIST, cv2.CHAIN_APPROX_NONE)\n",
    "    # print(len(contours))\n",
    "    X, Y = [], []\n",
    "    detected_circles = np.uint16(np.around(detected_circles))\n",
    "    for pt in detected_circles[0, :]:\n",
    "        cX, cY, r = pt[0], pt[1], pt[2]\n",
    "        X.append(cX)\n",
    "        Y.append(cY)\n",
    "    for c in contours:  # find center point\n",
    "        (cX, cY),radius = cv2.minEnclosingCircle(c)\n",
    "        X.append(cX)\n",
    "        Y.append(cY)\n",
    "    #     M = cv2.moments(c)\n",
    "    #     if M['m00']:\n",
    "    #         cX = M['m10']/M['m00']\n",
    "    #         cY = M['m01']/M['m00']\n",
    "    #         X.append(cX)\n",
    "    #         Y.append(cY)\n",
    "        # cv2.circle(image, (int(cX), int(cY)), 0, (0, 0, 255), -1)\n",
    "    result = -corr(X, Y)\n",
    "    # cv2.drawContours(image, contours, -1, (255,0, 0), 2)\n",
    "    # plt.imshow(image)\n",
    "    return result\n",
    "\n",
    "\n",
    "def corrCV2(image, i):\n",
    "    bMin = 160\n",
    "    gMin = 100\n",
    "    rMin = 25\n",
    "    bMax = 180\n",
    "    gMax = 125\n",
    "    rMax = 45\n",
    "    lower = np.array([bMin, gMin, rMin])\n",
    "    upper = np.array([bMax, gMax, rMax])\n",
    "    mask = cv2.inRange(image, lower, upper)\n",
    "    output = cv2.bitwise_and(image, image, mask=mask)  # Add an alpha channel, and update the output image variable\n",
    "    *_, alpha = cv2.split(output)\n",
    "    dst = cv2.merge((output.astype('uint8'), alpha.astype('uint8')))\n",
    "    kernel = np.ones((4, 4),np.uint8)\n",
    "    dst = cv2.morphologyEx(dst, cv2.MORPH_CLOSE, kernel)\n",
    "    plt.figure(figsize = (45,30))\n",
    "    plt.imshow(dst)\n",
    "    detected_circles = cv2.HoughCircles(dst,  cv2.HOUGH_GRADIENT, 1, 1, param1 = 50, param2 = 30, minRadius = 4, maxRadius = 4)\n",
    "    print(detected_circles)\n",
    "    return result\n",
    "\n",
    "counter = 0\n",
    "def corrCV3(image, i):\n",
    "    global counter\n",
    "    # image = cv2.cvtColor(image, cv2.COLOR_BGR2GRAY)\n",
    "    bMin = 160\n",
    "    gMin = 100\n",
    "    rMin = 25\n",
    "    bMax = 180\n",
    "    gMax = 125\n",
    "    rMax = 45\n",
    "    bMin = 160\n",
    "    gMin = 110\n",
    "    rMin = 25\n",
    "    bMax = 180\n",
    "    gMax = 130\n",
    "    rMax = 45\n",
    "    lower = np.array([bMin, gMin, rMin])\n",
    "    upper = np.array([bMax, gMax, rMax])\n",
    "    mask = cv2.inRange(image, lower, upper)\n",
    "    # output = cv2.bitwise_and(image, image, mask=mask)  # Add an alpha channel, and update the output image variable\n",
    "    # *_, alpha = cv2.split(output)\n",
    "    kernel = np.ones((3, 3),np.uint8)\n",
    "    dst = cv2.morphologyEx(mask, cv2.MORPH_CLOSE, kernel)\n",
    "    th, threshed = cv2.threshold(dst, 0, 255, cv2.THRESH_BINARY)\n",
    "    # detected_circles = cv2.HoughCircles(threshed, cv2.HOUGH_GRADIENT, 1, 1, param1 = 30, param2 = 5, minRadius = 2, maxRadius = 3)\n",
    "    #\n",
    "    # # Draw circles that are detected.\n",
    "    # if detected_circles is not None:\n",
    "    #\n",
    "    #     # Convert the circle parameters a, b and r to integers.\n",
    "    #     detected_circles = np.uint16(np.around(detected_circles))\n",
    "    #\n",
    "    #     for pt in detected_circles[0, :]:\n",
    "    #         a, b, r = pt[0], pt[1], pt[2]\n",
    "    #         # Draw a small circle (of radius 1) to show the center.\n",
    "    #         cv2.circle(image, (a, b), 1, (0, 0, 255), 0)\n",
    "    #     plt.figure(figsize = (45,30))\n",
    "    #     plt.imshow(image)\n",
    "    contours, hierarchy = cv2.findContours(threshed, cv2.RETR_LIST, cv2.CHAIN_APPROX_NONE)\n",
    "    # print(len(contours))\n",
    "    X, Y = [], []\n",
    "    for c in contours:  # find center point\n",
    "        (cX, cY),radius = cv2.minEnclosingCircle(c)\n",
    "        # radius of 1 is 2.2361679077148438\n",
    "        #print((cX, cY),radius)\n",
    "        X.append(cX)\n",
    "        Y.append(cY)\n",
    "        #cv2.circle(image, (int(cX), int(cY)), 0, (255, 255, 255), -1)\n",
    "    result = -corr(X, Y)\n",
    "    # plt.figure(figsize = (45,30))\n",
    "    # plt.imshow(image)\n",
    "    return result\n",
    "\n",
    "\n",
    "def corrCV4(image, i=None):\n",
    "    bMin = 160\n",
    "    gMin = 110\n",
    "    rMin = 25\n",
    "    bMax = 180\n",
    "    gMax = 130\n",
    "    rMax = 45\n",
    "    # searched\n",
    "    bMin = 166\n",
    "    gMin = 90  # 90-108 all same\n",
    "    rMin = 29\n",
    "    bMax = 182\n",
    "    # gMax = 121  # perform slightly worse than original\n",
    "    rMax = 46\n",
    "    lower = np.array([bMin, gMin, rMin])\n",
    "    upper = np.array([bMax, gMax, rMax])\n",
    "    mask = cv2.inRange(image, lower, upper)\n",
    "    kernel = np.ones((4, 3), np.uint8)\n",
    "    dst = cv2.morphologyEx(mask, cv2.MORPH_CLOSE, kernel)\n",
    "    th, threshed = cv2.threshold(dst, 254, 255, cv2.THRESH_BINARY_INV)\n",
    "    detected_circles = cv2.HoughCircles(threshed, cv2.HOUGH_GRADIENT, 1, 2, param1=20, param2=2, minRadius=2, maxRadius=3)\n",
    "    contours, hierarchy = cv2.findContours(threshed, cv2.RETR_LIST, cv2.CHAIN_APPROX_NONE)\n",
    "    # print(len(contours))\n",
    "    X, Y = [], []\n",
    "    detected_circles = np.uint16(np.around(detected_circles))\n",
    "    for pt in detected_circles[0, :]:\n",
    "        cX, cY, r = pt[0], pt[1], pt[2]\n",
    "        X.append(cX)\n",
    "        Y.append(cY)\n",
    "        cv2.circle(image, (int(cX), int(cY)), 0, (0, 0, 255), -1)\n",
    "    for c in contours:  # find center point\n",
    "        (cX, cY),radius = cv2.minEnclosingCircle(c)\n",
    "        X.append(cX)\n",
    "        Y.append(cY)\n",
    "        cv2.circle(image, (int(cX), int(cY)), 0, (0, 0, 255), -1)\n",
    "    result = -corr(X, Y)\n",
    "    # cv2.drawContours(image, contours, -1, (255,0, 0), 2)\n",
    "    plt.figure(figsize=(45, 30))\n",
    "    plt.imshow(image)\n",
    "    return result\n",
    "\n",
    "\n",
    "def corrCV5(image):\n",
    "    bMin = 0\n",
    "    gMin = 0\n",
    "    rMin = 0\n",
    "    bMax = 200\n",
    "    gMax = 200\n",
    "    rMax = 200\n",
    "    # # searched\n",
    "    # bMin = 166\n",
    "    # gMin = 90  # 90-108 all same\n",
    "    # rMin = 29\n",
    "    # bMax = 182\n",
    "    # # gMax = 121  # perform slightly worse than original\n",
    "    # rMax = 46\n",
    "    lower = np.array([bMin, gMin, rMin])\n",
    "    upper = np.array([bMax, gMax, rMax])\n",
    "    mask = cv2.inRange(image, lower, upper)\n",
    "    x, y = np.nonzero(mask)\n",
    "    return -corr(x, y)\n",
    "\n",
    "\n",
    "\n",
    "# Find optimal threshold i\n",
    "# for i in range(25, 65):\n",
    "#     results = []\n",
    "#     for path in range(1000):\n",
    "#         try:\n",
    "#             result = corrCV4(cv2.imread(os.path.join('train', f'{path}.jpg'), 3), i)\n",
    "#             results.append(result)\n",
    "#             if pearsonr(ans, results)[0] > 0.9977245808585984:\n",
    "#                 print(pearsonr(ans, results)[0])\n",
    "#                 print(i)\n",
    "#         except:\n",
    "#             pass"
   ],
   "metadata": {
    "collapsed": false,
    "pycharm": {
     "name": "#%%\n"
    }
   }
  },
  {
   "cell_type": "code",
   "execution_count": 88,
   "outputs": [
    {
     "name": "stdout",
     "output_type": "stream",
     "text": [
      "0\n"
     ]
    }
   ],
   "source": [
    "df_test = pd.read_csv('submission.csv')\n",
    "results = []\n",
    "\n",
    "for path in range(1000):\n",
    "    result = corrCV5(cv2.imread(os.path.join('test', f'{path}.jpg'), 3))\n",
    "    results.append(result)\n",
    "\n",
    "df_test['correlation'] = results\n",
    "df_test.to_csv('submission.csv', index=False)\n",
    "print(counter)"
   ],
   "metadata": {
    "collapsed": false,
    "pycharm": {
     "name": "#%%\n"
    }
   }
  },
  {
   "cell_type": "code",
   "execution_count": 89,
   "outputs": [
    {
     "name": "stdout",
     "output_type": "stream",
     "text": [
      "DSGraderClient: Successfully Connected!\n",
      "[SERVER] MOTD: CHECK your USER_TOKEN and GRADER_URL HTTP address! I'm CV_CORRELATED @ca4659cc5cfb\n",
      "ProofOfWork Challenge =>  ('CTFSGRB162de46c86b7324269c0aaea1419577b', 22)\n",
      "ProofOfWork Answer Found! =>  2712118\n"
     ]
    },
    {
     "data": {
      "text/plain": "'{\"challenge\":{\"name\":\"Correlated\"},\"id\":\"cl2a8yz6efup10832siyth6fo\",\"status\":\"PARTIALLY_CORRECT\",\"multiplier\":0.9975,\"submittedBy\":{\"username\":\"hci-69\"},\"createdAt\":\"2022-04-22T09:45:41Z\"}'"
     },
     "execution_count": 89,
     "metadata": {},
     "output_type": "execute_result"
    }
   ],
   "source": [
    "# Connect to graders\n",
    "import sys\n",
    "# insert at 1, 0 is the script path (or '' in REPL)\n",
    "sys.path.insert(1, 'C:/Users/alien/Documents/PyCharm Projects/Cyberthon 2021/pyctfsglib.py')\n",
    "import pyctfsglib as ctfsg\n",
    "import random\n",
    "\n",
    "USER_TOKEN = \"WrlLCkymxwtgFwRHZsdmKfSwcdqIpnqoXEtRkciVRZJfBJUgcEJoxVZjNTQRdqkR\" # You need to fill this up\n",
    "GRADER_URL = random.choice([\n",
    "  \"http://chals.cyberthon22t.ctf.sg:50301/\",\n",
    "  \"http://chals.cyberthon22t.ctf.sg:50302/\"\n",
    "])\n",
    "\n",
    "grader = ctfsg.DSGraderClient(GRADER_URL, USER_TOKEN)\n",
    "grader.submitFile('submission.csv')"
   ],
   "metadata": {
    "collapsed": false,
    "pycharm": {
     "name": "#%%\n"
    }
   }
  }
 ],
 "metadata": {
  "kernelspec": {
   "display_name": "Python 3",
   "language": "python",
   "name": "python3"
  },
  "language_info": {
   "codemirror_mode": {
    "name": "ipython",
    "version": 2
   },
   "file_extension": ".py",
   "mimetype": "text/x-python",
   "name": "python",
   "nbconvert_exporter": "python",
   "pygments_lexer": "ipython2",
   "version": "2.7.6"
  }
 },
 "nbformat": 4,
 "nbformat_minor": 0
}