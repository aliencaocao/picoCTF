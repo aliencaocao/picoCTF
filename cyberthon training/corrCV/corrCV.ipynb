{
 "cells": [
  {
   "cell_type": "code",
   "execution_count": 1,
   "metadata": {
    "collapsed": true,
    "pycharm": {
     "name": "#%%\n"
    }
   },
   "outputs": [],
   "source": [
    "import cv2\n",
    "import numpy as np\n",
    "import matplotlib.pyplot as plt\n",
    "import pandas as pd\n",
    "import os\n",
    "from scipy.stats import pearsonr"
   ]
  },
  {
   "cell_type": "code",
   "execution_count": 2,
   "outputs": [],
   "source": [
    "df_train = pd.read_csv('train.csv')\n",
    "ans = df_train['correlation']"
   ],
   "metadata": {
    "collapsed": false,
    "pycharm": {
     "name": "#%%\n"
    }
   }
  },
  {
   "cell_type": "code",
   "execution_count": 44,
   "outputs": [],
   "source": [
    "def corr(X, Y):\n",
    "    return pearsonr(X, Y)[0]\n",
    "\n",
    "\n",
    "def corrCV(image, i):\n",
    "    th, threshed = cv2.threshold(image, i, 255, cv2.THRESH_BINARY_INV)\n",
    "    contours, hierarchy = cv2.findContours(threshed, cv2.RETR_LIST, cv2.CHAIN_APPROX_NONE)\n",
    "    # print(len(contours))\n",
    "    X, Y = [], []\n",
    "    for c in contours:  # find center point\n",
    "        M = cv2.moments(c)\n",
    "        cX = M['m10']/M['m00']\n",
    "        cY = M['m01']/M['m00']\n",
    "        X.append(cX)\n",
    "        Y.append(cY)\n",
    "        # cv2.circle(image, (int(cX), int(cY)), 7, (255, 255, 255), -1)\n",
    "    result = -corr(X, Y)\n",
    "    # cv2.drawContours(image, contours, -1, (255,255, 255), 2)\n",
    "    # plt.imshow(cv2.cvtColor(image, cv2.COLOR_GRAY2RGB))\n",
    "    return result\n",
    "\n",
    "\n",
    "# Find optimal threshold i\n",
    "# for i in range(101, 247):\n",
    "#     results = []\n",
    "#     for path in range(1000):\n",
    "#         try:\n",
    "#             result = corrCV(cv2.cvtColor(cv2.imread(os.path.join('train', f'{path}.jpg'), 1), cv2.COLOR_BGR2GRAY), i)\n",
    "#             results.append(result)\n",
    "#             if pearsonr(ans, results)[0] > 0.95:\n",
    "#                 print(pearsonr(ans, results)[0])\n",
    "#                 print(i)\n",
    "#         except:\n",
    "#             pass"
   ],
   "metadata": {
    "collapsed": false,
    "pycharm": {
     "name": "#%%\n"
    }
   }
  },
  {
   "cell_type": "code",
   "execution_count": 45,
   "outputs": [],
   "source": [
    "df_test = pd.read_csv('submission.csv')\n",
    "results = []\n",
    "\n",
    "\n",
    "for path in range(1000):\n",
    "    result = corrCV(cv2.imread(os.path.join('test', f'{path}.jpg'), 0), 105)\n",
    "    results.append(result)\n",
    "\n",
    "df_test['correlation'] = results\n",
    "df_test.to_csv('submission.csv', index=False)"
   ],
   "metadata": {
    "collapsed": false,
    "pycharm": {
     "name": "#%%\n"
    }
   }
  },
  {
   "cell_type": "code",
   "execution_count": 46,
   "outputs": [
    {
     "name": "stdout",
     "output_type": "stream",
     "text": [
      "DSGraderClient: Successfully Connected!\n",
      "[SERVER] MOTD: CHECK your USER_TOKEN and GRADER_URL HTTP address! I'm CV_CORRELATED @637aa1e3bc7f\n",
      "ProofOfWork Challenge =>  ('CTFSGRB41757e6b7582933b8f3136f367f7a3b0', 22)\n",
      "ProofOfWork Answer Found! =>  5834714\n"
     ]
    },
    {
     "data": {
      "text/plain": "'{\"challenge\":{\"name\":\"Correlated\"},\"id\":\"cl22yuadwctvq0763g5hpx16u\",\"status\":\"PARTIALLY_CORRECT\",\"multiplier\":0.9732,\"submittedBy\":{\"username\":\"hci-69\"},\"createdAt\":\"2022-04-17T07:27:43Z\"}'"
     },
     "execution_count": 46,
     "metadata": {},
     "output_type": "execute_result"
    }
   ],
   "source": [
    "# Connect to graders\n",
    "import sys\n",
    "# insert at 1, 0 is the script path (or '' in REPL)\n",
    "sys.path.insert(1, 'C:/Users/alien/Documents/PyCharm Projects/Cyberthon 2021/pyctfsglib.py')\n",
    "import pyctfsglib as ctfsg\n",
    "import random\n",
    "\n",
    "USER_TOKEN = \"WrlLCkymxwtgFwRHZsdmKfSwcdqIpnqoXEtRkciVRZJfBJUgcEJoxVZjNTQRdqkR\" # You need to fill this up\n",
    "GRADER_URL = random.choice([\n",
    "  \"http://chals.cyberthon22t.ctf.sg:50301/\",\n",
    "  \"http://chals.cyberthon22t.ctf.sg:50302/\"\n",
    "])\n",
    "\n",
    "grader = ctfsg.DSGraderClient(GRADER_URL, USER_TOKEN)\n",
    "grader.submitFile('submission.csv')"
   ],
   "metadata": {
    "collapsed": false,
    "pycharm": {
     "name": "#%%\n"
    }
   }
  }
 ],
 "metadata": {
  "kernelspec": {
   "display_name": "Python 3",
   "language": "python",
   "name": "python3"
  },
  "language_info": {
   "codemirror_mode": {
    "name": "ipython",
    "version": 2
   },
   "file_extension": ".py",
   "mimetype": "text/x-python",
   "name": "python",
   "nbconvert_exporter": "python",
   "pygments_lexer": "ipython2",
   "version": "2.7.6"
  }
 },
 "nbformat": 4,
 "nbformat_minor": 0
}