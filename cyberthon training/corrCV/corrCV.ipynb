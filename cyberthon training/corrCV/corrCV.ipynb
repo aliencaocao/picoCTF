{
 "cells": [
  {
   "cell_type": "code",
   "execution_count": 1,
   "metadata": {
    "collapsed": true,
    "pycharm": {
     "name": "#%%\n"
    }
   },
   "outputs": [],
   "source": [
    "import cv2\n",
    "import numpy as np\n",
    "import matplotlib.pyplot as plt\n",
    "import pandas as pd\n",
    "import os\n",
    "from scipy.stats import pearsonr"
   ]
  },
  {
   "cell_type": "code",
   "execution_count": 20,
   "outputs": [],
   "source": [
    "df_train = pd.read_csv('train.csv')\n",
    "ans = df_train['correlation']"
   ],
   "metadata": {
    "collapsed": false,
    "pycharm": {
     "name": "#%%\n"
    }
   }
  },
  {
   "cell_type": "code",
   "execution_count": 114,
   "outputs": [],
   "source": [
    "def corr(X, Y):\n",
    "    return pearsonr(X, Y)[0]\n",
    "\n",
    "\n",
    "def corrCV(image, i):\n",
    "    # plt.figure(figsize = (45,30))\n",
    "    image = cv2.cvtColor(image, cv2.COLOR_BGR2GRAY)\n",
    "    # plt.imshow(erosion)\n",
    "    # return\n",
    "    th, threshed = cv2.threshold(image, i, 255, cv2.THRESH_BINARY)\n",
    "    kernel = np.ones((1, 1),np.uint8)\n",
    "    erosion = cv2.erode(threshed,kernel,iterations = 1)\n",
    "    contours, hierarchy = cv2.findContours(erosion, cv2.RETR_LIST, cv2.CHAIN_APPROX_NONE)\n",
    "    # print(len(contours))\n",
    "    X, Y = [], []\n",
    "    for c in contours:  # find center point\n",
    "        M = cv2.moments(c)\n",
    "        if M['m00']:\n",
    "            cX = M['m10']/M['m00']\n",
    "            cY = M['m01']/M['m00']\n",
    "            X.append(cX)\n",
    "            Y.append(cY)\n",
    "        # cv2.circle(image, (int(cX), int(cY)), 0, (0, 0, 255), -1)\n",
    "    result = -corr(X, Y)\n",
    "    # cv2.drawContours(image, contours, -1, (255,0, 0), 2)\n",
    "    # plt.imshow(image)\n",
    "    return result\n",
    "\n",
    "\n",
    "def corrCV2(image, i):\n",
    "    hMin = 100  # Hue minimum\n",
    "    sMin = 70  # Saturation minimum\n",
    "    vMin = 60  # Value minimum (Also referred to as brightness)\n",
    "    hMax = 220 # Hue maximum\n",
    "    sMax = 255 # Saturation maximum\n",
    "    vMax = 170 # Value maximum\n",
    "    # Set the minimum and max HSV values to display in the output image using numpys' array function. We need the numpy array since OpenCVs' inRange function will use those.\n",
    "    lower = np.array([hMin, sMin, vMin])\n",
    "    upper = np.array([hMax, sMax, vMax])\n",
    "    # Create HSV Image and threshold it into the proper range.\n",
    "    hsv = cv2.cvtColor(image, cv2.COLOR_BGR2HSV)\n",
    "    # Converting color space from BGR to HSV\n",
    "    mask = cv2.inRange(hsv, lower, upper)\n",
    "    # Create a mask based on the lower and upper range, using the new HSV image# Create the output image, using the mask created above. This will perform the removal of all unneeded colors, but will keep a black background.\n",
    "    output = cv2.bitwise_and(image, image, mask=mask)# Add an alpha channel, and update the output image variable\n",
    "    *_, alpha = cv2.split(output)\n",
    "    dst = cv2.merge((output.astype('uint8'), alpha.astype('uint8')))\n",
    "    kernel = np.ones((4, 4),np.uint8)\n",
    "    dst = cv2.morphologyEx(dst, cv2.MORPH_CLOSE, kernel)\n",
    "    # plt.figure(figsize = (45,30))\n",
    "    # plt.imshow(dst)\n",
    "    th, threshed = cv2.threshold(dst, i, 255, cv2.THRESH_BINARY)\n",
    "    contours, hierarchy = cv2.findContours(threshed, cv2.RETR_LIST, cv2.CHAIN_APPROX_NONE)\n",
    "    # print(len(contours))\n",
    "    X, Y = [], []\n",
    "    for c in contours:  # find center point\n",
    "        M = cv2.moments(c)\n",
    "        if M['m00']:\n",
    "            cX = M['m10']/M['m00']\n",
    "            cY = M['m01']/M['m00']\n",
    "            X.append(cX)\n",
    "            Y.append(cY)\n",
    "        # cv2.circle(image, (int(cX), int(cY)), 0, (0, 0, 255), -1)\n",
    "    result = -corr(X, Y)\n",
    "    # cv2.drawContours(image, contours, -1, (255,0, 0), 2)\n",
    "    # plt.imshow(image)\n",
    "    return result\n",
    "\n",
    "\n",
    "\n",
    "# Find optimal threshold i\n",
    "# for i in range(255):\n",
    "#     results = []\n",
    "#     for path in range(1000):\n",
    "#         try:\n",
    "#             result = corrCV(cv2.imread(os.path.join('train', f'{path}.jpg'), 3), i)\n",
    "#             results.append(result)\n",
    "#             if pearsonr(ans, results)[0] > 0.990375:\n",
    "#                 print(pearsonr(ans, results)[0])\n",
    "#                 print(i)\n",
    "#         except:\n",
    "#             pass"
   ],
   "metadata": {
    "collapsed": false,
    "pycharm": {
     "name": "#%%\n"
    }
   }
  },
  {
   "cell_type": "code",
   "execution_count": 115,
   "outputs": [
    {
     "ename": "error",
     "evalue": "OpenCV(4.5.5) D:\\a\\opencv-python\\opencv-python\\opencv\\modules\\imgproc\\src\\contours.cpp:197: error: (-210:Unsupported format or combination of formats) [Start]FindContours supports only CV_8UC1 images when mode != CV_RETR_FLOODFILL otherwise supports CV_32SC1 images only in function 'cvStartFindContours_Impl'\n",
     "output_type": "error",
     "traceback": [
      "\u001B[1;31m---------------------------------------------------------------------------\u001B[0m",
      "\u001B[1;31merror\u001B[0m                                     Traceback (most recent call last)",
      "Input \u001B[1;32mIn [115]\u001B[0m, in \u001B[0;36m<cell line: 4>\u001B[1;34m()\u001B[0m\n\u001B[0;32m      2\u001B[0m results \u001B[38;5;241m=\u001B[39m []\n\u001B[0;32m      4\u001B[0m \u001B[38;5;28;01mfor\u001B[39;00m path \u001B[38;5;129;01min\u001B[39;00m \u001B[38;5;28mrange\u001B[39m(\u001B[38;5;241m1000\u001B[39m):\n\u001B[1;32m----> 5\u001B[0m     result \u001B[38;5;241m=\u001B[39m \u001B[43mcorrCV2\u001B[49m\u001B[43m(\u001B[49m\u001B[43mcv2\u001B[49m\u001B[38;5;241;43m.\u001B[39;49m\u001B[43mimread\u001B[49m\u001B[43m(\u001B[49m\u001B[43mos\u001B[49m\u001B[38;5;241;43m.\u001B[39;49m\u001B[43mpath\u001B[49m\u001B[38;5;241;43m.\u001B[39;49m\u001B[43mjoin\u001B[49m\u001B[43m(\u001B[49m\u001B[38;5;124;43m'\u001B[39;49m\u001B[38;5;124;43mtest\u001B[39;49m\u001B[38;5;124;43m'\u001B[39;49m\u001B[43m,\u001B[49m\u001B[43m \u001B[49m\u001B[38;5;124;43mf\u001B[39;49m\u001B[38;5;124;43m'\u001B[39;49m\u001B[38;5;132;43;01m{\u001B[39;49;00m\u001B[43mpath\u001B[49m\u001B[38;5;132;43;01m}\u001B[39;49;00m\u001B[38;5;124;43m.jpg\u001B[39;49m\u001B[38;5;124;43m'\u001B[39;49m\u001B[43m)\u001B[49m\u001B[43m,\u001B[49m\u001B[43m \u001B[49m\u001B[38;5;241;43m3\u001B[39;49m\u001B[43m)\u001B[49m\u001B[43m,\u001B[49m\u001B[43m \u001B[49m\u001B[38;5;241;43m105\u001B[39;49m\u001B[43m)\u001B[49m\n\u001B[0;32m      6\u001B[0m     results\u001B[38;5;241m.\u001B[39mappend(result)\n\u001B[0;32m      7\u001B[0m     \u001B[38;5;28;01mbreak\u001B[39;00m\n",
      "Input \u001B[1;32mIn [114]\u001B[0m, in \u001B[0;36mcorrCV2\u001B[1;34m(image, i)\u001B[0m\n\u001B[0;32m     50\u001B[0m \u001B[38;5;66;03m# plt.figure(figsize = (45,30))\u001B[39;00m\n\u001B[0;32m     51\u001B[0m \u001B[38;5;66;03m# plt.imshow(dst)\u001B[39;00m\n\u001B[0;32m     52\u001B[0m th, threshed \u001B[38;5;241m=\u001B[39m cv2\u001B[38;5;241m.\u001B[39mthreshold(dst, i, \u001B[38;5;241m255\u001B[39m, cv2\u001B[38;5;241m.\u001B[39mTHRESH_BINARY)\n\u001B[1;32m---> 53\u001B[0m contours, hierarchy \u001B[38;5;241m=\u001B[39m \u001B[43mcv2\u001B[49m\u001B[38;5;241;43m.\u001B[39;49m\u001B[43mfindContours\u001B[49m\u001B[43m(\u001B[49m\u001B[43mthreshed\u001B[49m\u001B[43m,\u001B[49m\u001B[43m \u001B[49m\u001B[43mcv2\u001B[49m\u001B[38;5;241;43m.\u001B[39;49m\u001B[43mRETR_LIST\u001B[49m\u001B[43m,\u001B[49m\u001B[43m \u001B[49m\u001B[43mcv2\u001B[49m\u001B[38;5;241;43m.\u001B[39;49m\u001B[43mCHAIN_APPROX_NONE\u001B[49m\u001B[43m)\u001B[49m\n\u001B[0;32m     54\u001B[0m \u001B[38;5;66;03m# print(len(contours))\u001B[39;00m\n\u001B[0;32m     55\u001B[0m X, Y \u001B[38;5;241m=\u001B[39m [], []\n",
      "\u001B[1;31merror\u001B[0m: OpenCV(4.5.5) D:\\a\\opencv-python\\opencv-python\\opencv\\modules\\imgproc\\src\\contours.cpp:197: error: (-210:Unsupported format or combination of formats) [Start]FindContours supports only CV_8UC1 images when mode != CV_RETR_FLOODFILL otherwise supports CV_32SC1 images only in function 'cvStartFindContours_Impl'\n"
     ]
    }
   ],
   "source": [
    "df_test = pd.read_csv('submission.csv')\n",
    "results = []\n",
    "\n",
    "for path in range(1000):\n",
    "    result = corrCV2(cv2.imread(os.path.join('test', f'{path}.jpg'), 3), 105)\n",
    "    results.append(result)\n",
    "    break\n",
    "\n",
    "# df_test['correlation'] = results\n",
    "# df_test.to_csv('submission.csv', index=False)"
   ],
   "metadata": {
    "collapsed": false,
    "pycharm": {
     "name": "#%%\n"
    }
   }
  },
  {
   "cell_type": "code",
   "execution_count": 41,
   "outputs": [
    {
     "name": "stdout",
     "output_type": "stream",
     "text": [
      "DSGraderClient: Successfully Connected!\n",
      "[SERVER] MOTD: CHECK your USER_TOKEN and GRADER_URL HTTP address! I'm CV_CORRELATED @637aa1e3bc7f\n",
      "ProofOfWork Challenge =>  ('CTFSGRBad90ed58d58d00e3fac651622fb8033c', 22)\n",
      "ProofOfWork Answer Found! =>  9957800\n"
     ]
    },
    {
     "data": {
      "text/plain": "'{\"challenge\":{\"name\":\"Correlated\"},\"id\":\"cl295vabafmu50832qqev1on1\",\"status\":\"PARTIALLY_CORRECT\",\"multiplier\":0.9745,\"submittedBy\":{\"username\":\"hci-69\"},\"createdAt\":\"2022-04-21T15:31:04Z\"}'"
     },
     "execution_count": 41,
     "metadata": {},
     "output_type": "execute_result"
    }
   ],
   "source": [
    "# Connect to graders\n",
    "import sys\n",
    "# insert at 1, 0 is the script path (or '' in REPL)\n",
    "sys.path.insert(1, 'C:/Users/alien/Documents/PyCharm Projects/Cyberthon 2021/pyctfsglib.py')\n",
    "import pyctfsglib as ctfsg\n",
    "import random\n",
    "\n",
    "USER_TOKEN = \"WrlLCkymxwtgFwRHZsdmKfSwcdqIpnqoXEtRkciVRZJfBJUgcEJoxVZjNTQRdqkR\" # You need to fill this up\n",
    "GRADER_URL = random.choice([\n",
    "  \"http://chals.cyberthon22t.ctf.sg:50301/\",\n",
    "  \"http://chals.cyberthon22t.ctf.sg:50302/\"\n",
    "])\n",
    "\n",
    "grader = ctfsg.DSGraderClient(GRADER_URL, USER_TOKEN)\n",
    "grader.submitFile('submission.csv')"
   ],
   "metadata": {
    "collapsed": false,
    "pycharm": {
     "name": "#%%\n"
    }
   }
  }
 ],
 "metadata": {
  "kernelspec": {
   "display_name": "Python 3",
   "language": "python",
   "name": "python3"
  },
  "language_info": {
   "codemirror_mode": {
    "name": "ipython",
    "version": 2
   },
   "file_extension": ".py",
   "mimetype": "text/x-python",
   "name": "python",
   "nbconvert_exporter": "python",
   "pygments_lexer": "ipython2",
   "version": "2.7.6"
  }
 },
 "nbformat": 4,
 "nbformat_minor": 0
}