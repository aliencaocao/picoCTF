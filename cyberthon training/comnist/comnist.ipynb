{
 "cells": [
  {
   "cell_type": "code",
   "execution_count": 1,
   "metadata": {
    "collapsed": true,
    "pycharm": {
     "name": "#%%\n"
    }
   },
   "outputs": [],
   "source": [
    "import pandas as pd\n",
    "import tensorflow as tf\n",
    "from tensorflow.keras.layers import *\n",
    "from tensorflow.keras.models import Model\n",
    "from tensorflow.keras.utils import plot_model"
   ]
  },
  {
   "cell_type": "code",
   "execution_count": 2,
   "outputs": [
    {
     "name": "stdout",
     "output_type": "stream",
     "text": [
      "Training data:\n",
      "Found 3081 files belonging to 34 classes.\n",
      "Using 2465 files for training.\n",
      "\n",
      "Validation data:\n",
      "Found 3081 files belonging to 34 classes.\n",
      "Using 616 files for validation.\n"
     ]
    }
   ],
   "source": [
    "# data loading config\n",
    "batch_size = 64\n",
    "img_height = 100\n",
    "img_width = 100\n",
    "labels = 'inferred'\n",
    "label_mode = 'categorical'  # sparse one hot encoding\n",
    "color_mode = 'rgb'\n",
    "shuffle = True\n",
    "seed = 69\n",
    "val_split = 0.2\n",
    "AUTOTUNE = tf.data.AUTOTUNE\n",
    "\n",
    "print('Training data:')\n",
    "train = tf.keras.utils.image_dataset_from_directory('train', labels=labels, label_mode=label_mode,\n",
    "color_mode=color_mode, shuffle=shuffle, seed=seed, image_size=(img_height, img_width), batch_size=batch_size, validation_split=val_split, subset='training')\n",
    "train_class_names = train.class_names\n",
    "\n",
    "print('\\nValidation data:')\n",
    "val = tf.keras.utils.image_dataset_from_directory('train', labels=labels, label_mode=label_mode,\n",
    "color_mode=color_mode, shuffle=shuffle, seed=seed, image_size=(img_height, img_width), batch_size=batch_size, validation_split=val_split, subset='validation')\n",
    "val_class_names = val.class_names\n",
    "\n",
    "train = train.cache().prefetch(buffer_size=AUTOTUNE)\n",
    "val = val.cache().prefetch(buffer_size=AUTOTUNE)"
   ],
   "metadata": {
    "collapsed": false,
    "pycharm": {
     "name": "#%%\n"
    }
   }
  },
  {
   "cell_type": "code",
   "execution_count": 3,
   "outputs": [
    {
     "name": "stdout",
     "output_type": "stream",
     "text": [
      "Downloading data from https://storage.googleapis.com/tensorflow/keras-applications/efficientnet_v2/efficientnetv2-m_notop.h5\n",
      "214204416/214201816 [==============================] - 10s 0us/step\n",
      "214212608/214201816 [==============================] - 10s 0us/step\n",
      "Model: \"model\"\n",
      "_________________________________________________________________\n",
      " Layer (type)                Output Shape              Param #   \n",
      "=================================================================\n",
      " input_1 (InputLayer)        [(None, 100, 100, 3)]     0         \n",
      "                                                                 \n",
      " efficientnetv2-m (Functiona  (None, 4, 4, 1280)       53150388  \n",
      " l)                                                              \n",
      "                                                                 \n",
      " flatten (Flatten)           (None, 20480)             0         \n",
      "                                                                 \n",
      " dropout (Dropout)           (None, 20480)             0         \n",
      "                                                                 \n",
      " dense (Dense)               (None, 256)               5243136   \n",
      "                                                                 \n",
      " dropout_1 (Dropout)         (None, 256)               0         \n",
      "                                                                 \n",
      " dense_1 (Dense)             (None, 256)               65792     \n",
      "                                                                 \n",
      " dropout_2 (Dropout)         (None, 256)               0         \n",
      "                                                                 \n",
      " dense_2 (Dense)             (None, 34)                8738      \n",
      "                                                                 \n",
      "=================================================================\n",
      "Total params: 58,468,054\n",
      "Trainable params: 58,176,022\n",
      "Non-trainable params: 292,032\n",
      "_________________________________________________________________\n",
      "Epoch 1/100\n",
      "39/39 [==============================] - 99s 592ms/step - loss: 2.6043 - accuracy: 0.3757 - val_loss: 1.7631 - val_accuracy: 0.6981 - lr: 0.0010\n",
      "Epoch 2/100\n",
      "39/39 [==============================] - 74s 2s/step - loss: 1.5708 - accuracy: 0.7420 - val_loss: 1.1329 - val_accuracy: 0.8831 - lr: 0.0010\n",
      "Epoch 3/100\n",
      "39/39 [==============================] - 9s 243ms/step - loss: 1.2142 - accuracy: 0.8714 - val_loss: 1.1739 - val_accuracy: 0.8831 - lr: 0.0010\n",
      "Epoch 4/100\n",
      "39/39 [==============================] - 10s 248ms/step - loss: 1.0758 - accuracy: 0.9201 - val_loss: 0.9931 - val_accuracy: 0.9140 - lr: 0.0010\n",
      "Epoch 5/100\n",
      "39/39 [==============================] - 9s 243ms/step - loss: 0.9557 - accuracy: 0.9501 - val_loss: 1.0088 - val_accuracy: 0.9107 - lr: 0.0010\n",
      "Epoch 6/100\n",
      "39/39 [==============================] - 10s 252ms/step - loss: 0.8852 - accuracy: 0.9659 - val_loss: 0.8416 - val_accuracy: 0.9545 - lr: 0.0010\n",
      "Epoch 7/100\n",
      "39/39 [==============================] - 9s 240ms/step - loss: 0.8443 - accuracy: 0.9740 - val_loss: 0.9108 - val_accuracy: 0.9383 - lr: 0.0010\n",
      "Epoch 8/100\n",
      "39/39 [==============================] - 10s 247ms/step - loss: 0.8351 - accuracy: 0.9753 - val_loss: 0.8752 - val_accuracy: 0.9367 - lr: 0.0010\n",
      "Epoch 9/100\n",
      "39/39 [==============================] - 9s 243ms/step - loss: 0.8281 - accuracy: 0.9777 - val_loss: 0.8958 - val_accuracy: 0.9399 - lr: 0.0010\n",
      "Epoch 10/100\n",
      "39/39 [==============================] - 10s 244ms/step - loss: 0.7927 - accuracy: 0.9874 - val_loss: 0.8628 - val_accuracy: 0.9481 - lr: 0.0010\n",
      "Epoch 11/100\n",
      "39/39 [==============================] - 9s 242ms/step - loss: 0.8351 - accuracy: 0.9732 - val_loss: 0.9207 - val_accuracy: 0.9253 - lr: 0.0010\n",
      "Epoch 12/100\n",
      "39/39 [==============================] - 10s 247ms/step - loss: 0.8751 - accuracy: 0.9696 - val_loss: 0.8695 - val_accuracy: 0.9513 - lr: 0.0010\n",
      "Epoch 13/100\n",
      "39/39 [==============================] - 9s 241ms/step - loss: 0.8468 - accuracy: 0.9728 - val_loss: 0.9148 - val_accuracy: 0.9318 - lr: 0.0010\n",
      "Epoch 14/100\n",
      "39/39 [==============================] - 9s 241ms/step - loss: 0.8107 - accuracy: 0.9801 - val_loss: 0.9068 - val_accuracy: 0.9318 - lr: 0.0010\n",
      "Epoch 15/100\n",
      "39/39 [==============================] - 9s 240ms/step - loss: 0.7839 - accuracy: 0.9850 - val_loss: 0.8716 - val_accuracy: 0.9351 - lr: 0.0010\n",
      "Epoch 16/100\n",
      "39/39 [==============================] - 10s 247ms/step - loss: 0.7587 - accuracy: 0.9890 - val_loss: 0.8917 - val_accuracy: 0.9334 - lr: 0.0010\n",
      "Epoch 17/100\n",
      "39/39 [==============================] - 10s 245ms/step - loss: 0.7421 - accuracy: 0.9919 - val_loss: 0.8348 - val_accuracy: 0.9497 - lr: 0.0010\n",
      "Epoch 18/100\n",
      "39/39 [==============================] - 9s 243ms/step - loss: 0.7134 - accuracy: 0.9980 - val_loss: 0.7993 - val_accuracy: 0.9529 - lr: 0.0010\n",
      "Epoch 19/100\n",
      "39/39 [==============================] - 10s 249ms/step - loss: 0.7072 - accuracy: 0.9984 - val_loss: 0.7836 - val_accuracy: 0.9675 - lr: 0.0010\n",
      "Epoch 20/100\n",
      "39/39 [==============================] - 10s 248ms/step - loss: 0.7042 - accuracy: 0.9988 - val_loss: 0.8000 - val_accuracy: 0.9594 - lr: 0.0010\n",
      "Epoch 21/100\n",
      "39/39 [==============================] - 9s 241ms/step - loss: 0.6999 - accuracy: 0.9992 - val_loss: 0.7918 - val_accuracy: 0.9610 - lr: 0.0010\n",
      "Epoch 22/100\n",
      "39/39 [==============================] - 9s 243ms/step - loss: 0.6998 - accuracy: 0.9988 - val_loss: 0.7845 - val_accuracy: 0.9675 - lr: 0.0010\n",
      "Epoch 23/100\n",
      "39/39 [==============================] - 9s 241ms/step - loss: 0.6932 - accuracy: 0.9996 - val_loss: 0.7854 - val_accuracy: 0.9675 - lr: 0.0010\n",
      "Epoch 24/100\n",
      "39/39 [==============================] - 9s 243ms/step - loss: 0.6901 - accuracy: 1.0000 - val_loss: 0.7834 - val_accuracy: 0.9675 - lr: 0.0010\n",
      "Epoch 25/100\n",
      "39/39 [==============================] - 10s 249ms/step - loss: 0.6906 - accuracy: 1.0000 - val_loss: 0.7814 - val_accuracy: 0.9708 - lr: 0.0010\n",
      "Epoch 26/100\n",
      "39/39 [==============================] - 10s 244ms/step - loss: 0.6888 - accuracy: 1.0000 - val_loss: 0.7797 - val_accuracy: 0.9692 - lr: 0.0010\n",
      "Epoch 27/100\n",
      "39/39 [==============================] - 10s 246ms/step - loss: 0.6875 - accuracy: 1.0000 - val_loss: 0.7750 - val_accuracy: 0.9708 - lr: 0.0010\n",
      "Epoch 28/100\n",
      "39/39 [==============================] - 10s 245ms/step - loss: 0.6888 - accuracy: 1.0000 - val_loss: 0.7776 - val_accuracy: 0.9708 - lr: 0.0010\n",
      "Epoch 29/100\n",
      "39/39 [==============================] - 10s 253ms/step - loss: 0.6883 - accuracy: 1.0000 - val_loss: 0.7778 - val_accuracy: 0.9724 - lr: 0.0010\n",
      "Epoch 30/100\n",
      "39/39 [==============================] - 10s 247ms/step - loss: 0.6872 - accuracy: 1.0000 - val_loss: 0.7790 - val_accuracy: 0.9692 - lr: 0.0010\n",
      "Epoch 31/100\n",
      "39/39 [==============================] - 10s 253ms/step - loss: 0.6874 - accuracy: 1.0000 - val_loss: 0.7827 - val_accuracy: 0.9708 - lr: 0.0010\n",
      "Epoch 32/100\n",
      "39/39 [==============================] - 10s 250ms/step - loss: 0.6874 - accuracy: 1.0000 - val_loss: 0.7748 - val_accuracy: 0.9724 - lr: 0.0010\n",
      "Epoch 33/100\n",
      "39/39 [==============================] - 10s 255ms/step - loss: 0.6863 - accuracy: 1.0000 - val_loss: 0.7762 - val_accuracy: 0.9708 - lr: 0.0010\n",
      "Epoch 34/100\n",
      "39/39 [==============================] - 10s 248ms/step - loss: 0.6870 - accuracy: 1.0000 - val_loss: 0.7803 - val_accuracy: 0.9675 - lr: 0.0010\n",
      "Epoch 35/100\n",
      "39/39 [==============================] - 10s 253ms/step - loss: 0.6855 - accuracy: 1.0000 - val_loss: 0.7759 - val_accuracy: 0.9692 - lr: 0.0010\n",
      "Epoch 36/100\n",
      "39/39 [==============================] - 9s 243ms/step - loss: 0.6864 - accuracy: 1.0000 - val_loss: 0.7710 - val_accuracy: 0.9724 - lr: 0.0010\n",
      "Epoch 37/100\n",
      "39/39 [==============================] - 10s 246ms/step - loss: 0.6857 - accuracy: 1.0000 - val_loss: 0.7772 - val_accuracy: 0.9724 - lr: 0.0010\n",
      "Epoch 38/100\n",
      "39/39 [==============================] - 10s 255ms/step - loss: 0.6854 - accuracy: 1.0000 - val_loss: 0.7750 - val_accuracy: 0.9724 - lr: 0.0010\n",
      "Epoch 39/100\n",
      "39/39 [==============================] - 10s 251ms/step - loss: 0.6840 - accuracy: 1.0000 - val_loss: 0.7742 - val_accuracy: 0.9724 - lr: 0.0010\n",
      "Epoch 40/100\n",
      "39/39 [==============================] - 10s 251ms/step - loss: 0.6842 - accuracy: 1.0000 - val_loss: 0.7755 - val_accuracy: 0.9708 - lr: 0.0010\n",
      "Epoch 41/100\n",
      "39/39 [==============================] - 10s 251ms/step - loss: 0.6839 - accuracy: 1.0000 - val_loss: 0.7695 - val_accuracy: 0.9724 - lr: 0.0010\n",
      "Epoch 42/100\n",
      "39/39 [==============================] - 10s 253ms/step - loss: 0.6839 - accuracy: 1.0000 - val_loss: 0.7744 - val_accuracy: 0.9708 - lr: 0.0010\n",
      "Epoch 43/100\n",
      "39/39 [==============================] - 10s 252ms/step - loss: 0.6836 - accuracy: 1.0000 - val_loss: 0.7756 - val_accuracy: 0.9708 - lr: 0.0010\n",
      "Epoch 44/100\n",
      "39/39 [==============================] - ETA: 0s - loss: 0.6838 - accuracy: 1.0000\n",
      "Epoch 44: ReduceLROnPlateau reducing learning rate to 0.00010000000474974513.\n",
      "39/39 [==============================] - 10s 256ms/step - loss: 0.6838 - accuracy: 1.0000 - val_loss: 0.7771 - val_accuracy: 0.9708 - lr: 0.0010\n",
      "Epoch 45/100\n",
      "39/39 [==============================] - 10s 246ms/step - loss: 0.6817 - accuracy: 1.0000 - val_loss: 0.7753 - val_accuracy: 0.9708 - lr: 1.0000e-04\n",
      "Epoch 46/100\n",
      "39/39 [==============================] - 10s 249ms/step - loss: 0.6808 - accuracy: 1.0000 - val_loss: 0.7750 - val_accuracy: 0.9708 - lr: 1.0000e-04\n",
      "Epoch 47/100\n",
      "39/39 [==============================] - 10s 245ms/step - loss: 0.6803 - accuracy: 1.0000 - val_loss: 0.7753 - val_accuracy: 0.9708 - lr: 1.0000e-04\n",
      "Epoch 48/100\n",
      "39/39 [==============================] - 10s 257ms/step - loss: 0.6797 - accuracy: 1.0000 - val_loss: 0.7741 - val_accuracy: 0.9708 - lr: 1.0000e-04\n",
      "Epoch 49/100\n",
      "39/39 [==============================] - 10s 261ms/step - loss: 0.6800 - accuracy: 1.0000 - val_loss: 0.7758 - val_accuracy: 0.9708 - lr: 1.0000e-04\n"
     ]
    },
    {
     "data": {
      "text/plain": "<keras.callbacks.History at 0x1f4e8ddcf70>"
     },
     "execution_count": 3,
     "metadata": {},
     "output_type": "execute_result"
    }
   ],
   "source": [
    "# model layers\n",
    "xIn = Input((img_height, img_width, 3))\n",
    "effnet = tf.keras.applications.efficientnet_v2.EfficientNetV2M(include_top=False, weights='imagenet', input_shape=(img_height, img_width, 3),)\n",
    "x = effnet(xIn)\n",
    "x = Flatten()(x)\n",
    "x = Dropout(0.3)(x)\n",
    "x = Dense(256, activation='swish')(x)\n",
    "x = Dropout(0.3)(x)\n",
    "x = Dense(256, activation='swish')(x)\n",
    "x = Dropout(0.3)(x)\n",
    "xOut = Dense(len(train_class_names))(x)\n",
    "\n",
    "\n",
    "model = Model(inputs=xIn, outputs=xOut)\n",
    "\n",
    "model.compile(\n",
    "    optimizer=tf.keras.optimizers.Adam(1e-3),\n",
    "    loss=tf.keras.losses.CategoricalCrossentropy(from_logits=True, label_smoothing=0.1),\n",
    "    metrics=['accuracy'])\n",
    "\n",
    "callbacks = [\n",
    "    tf.keras.callbacks.EarlyStopping(monitor='val_accuracy', patience=20, restore_best_weights=True),\n",
    "    tf.keras.callbacks.ReduceLROnPlateau(monitor='val_accuracy', factor=0.1, patience=15, verbose=1)\n",
    "]\n",
    "\n",
    "model.summary()\n",
    "model.fit(train, epochs=100, batch_size=64, validation_data=val, callbacks=callbacks)"
   ],
   "metadata": {
    "collapsed": false,
    "pycharm": {
     "name": "#%%\n"
    }
   }
  },
  {
   "cell_type": "code",
   "execution_count": 4,
   "outputs": [
    {
     "name": "stdout",
     "output_type": "stream",
     "text": [
      "INFO:tensorflow:Assets written to: comnist\\assets\n"
     ]
    }
   ],
   "source": [
    "model.save('comnist')"
   ],
   "metadata": {
    "collapsed": false,
    "pycharm": {
     "name": "#%%\n"
    }
   }
  },
  {
   "cell_type": "code",
   "execution_count": 23,
   "outputs": [
    {
     "name": "stdout",
     "output_type": "stream",
     "text": [
      "Found 12399 files belonging to 1 classes.\n"
     ]
    }
   ],
   "source": [
    "test = tf.keras.utils.image_dataset_from_directory('test', labels=None, label_mode=None,\n",
    "color_mode=color_mode, shuffle=False, seed=seed, image_size=(img_height, img_width), batch_size=batch_size)\n",
    "filenames = test.file_paths\n",
    "filenames = [file.split('\\\\')[-1].split('.jpg')[0] for file in filenames]\n",
    "test = test.cache().prefetch(buffer_size=AUTOTUNE)\n",
    "preds = model.predict(test)\n",
    "preds = tf.nn.softmax(preds)\n",
    "preds = tf.argmax(preds, axis=-1)"
   ],
   "metadata": {
    "collapsed": false,
    "pycharm": {
     "name": "#%%\n"
    }
   }
  },
  {
   "cell_type": "code",
   "execution_count": 28,
   "outputs": [],
   "source": [
    "preds_dict = dict()\n",
    "for i in range(len(preds)):\n",
    "    preds_dict.update({filenames[i]: train_class_names[int(preds[i])]})\n",
    "\n",
    "import pandas as pd\n",
    "pred_df = pd.read_csv('test.csv')\n",
    "pred_df_unordered = pd.DataFrame.from_dict(preds_dict, columns=['label'], orient='index')\n",
    "pred_df_unordered.reset_index(inplace=True)\n",
    "pred_df_unordered.columns = ['id', 'label']\n",
    "\n",
    "pred_df_aligned = pred_df.merge(pred_df_unordered, on='id', how='left')\n",
    "pred_df_aligned.drop(['label_x'], axis=1, inplace=True)\n",
    "pred_df_aligned.columns = ['id', 'label']\n",
    "pred_df_aligned.to_csv('submission.csv', index=False)"
   ],
   "metadata": {
    "collapsed": false,
    "pycharm": {
     "name": "#%%\n"
    }
   }
  },
  {
   "cell_type": "code",
   "execution_count": 29,
   "outputs": [
    {
     "name": "stdout",
     "output_type": "stream",
     "text": [
      "DSGraderClient: Successfully Connected!\n",
      "[SERVER] MOTD: CHECK your USER_TOKEN and GRADER_URL HTTP address! I'm CoMNIST @4d907f5f7099\n",
      "ProofOfWork Challenge =>  ('CTFSGRB6c90f7d7df10511e295d8b4964b873a1', 22)\n",
      "ProofOfWork Answer Found! =>  271565\n"
     ]
    },
    {
     "data": {
      "text/plain": "'{\"challenge\":{\"name\":\"CoMNIST\"},\"id\":\"cl22nyk6fchue0832ftq93rod\",\"status\":\"PARTIALLY_CORRECT\",\"multiplier\":0.9665,\"submittedBy\":{\"username\":\"hci-69\"},\"createdAt\":\"2022-04-17T02:23:06Z\"}'"
     },
     "execution_count": 29,
     "metadata": {},
     "output_type": "execute_result"
    }
   ],
   "source": [
    "# Connect to graders\n",
    "import sys\n",
    "# insert at 1, 0 is the script path (or '' in REPL)\n",
    "sys.path.insert(1, 'C:/Users/alien/Documents/PyCharm Projects/Cyberthon 2021/pyctfsglib.py')\n",
    "import pyctfsglib as ctfsg\n",
    "import random\n",
    "\n",
    "USER_TOKEN = \"WrlLCkymxwtgFwRHZsdmKfSwcdqIpnqoXEtRkciVRZJfBJUgcEJoxVZjNTQRdqkR\" # You need to fill this up\n",
    "GRADER_URL = random.choice([\n",
    "  \"http://chals.cyberthon22t.ctf.sg:50201/\",\n",
    "  \"http://chals.cyberthon22t.ctf.sg:50202/\"\n",
    "])\n",
    "\n",
    "grader = ctfsg.DSGraderClient(GRADER_URL, USER_TOKEN)\n",
    "grader.submitFile('submission.csv')"
   ],
   "metadata": {
    "collapsed": false,
    "pycharm": {
     "name": "#%%\n"
    }
   }
  }
 ],
 "metadata": {
  "kernelspec": {
   "display_name": "Python 3",
   "language": "python",
   "name": "python3"
  },
  "language_info": {
   "codemirror_mode": {
    "name": "ipython",
    "version": 2
   },
   "file_extension": ".py",
   "mimetype": "text/x-python",
   "name": "python",
   "nbconvert_exporter": "python",
   "pygments_lexer": "ipython2",
   "version": "2.7.6"
  }
 },
 "nbformat": 4,
 "nbformat_minor": 0
}