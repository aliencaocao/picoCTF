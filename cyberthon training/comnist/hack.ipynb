{
 "cells": [
  {
   "cell_type": "code",
   "execution_count": 1,
   "metadata": {
    "collapsed": true,
    "pycharm": {
     "name": "#%%\n"
    }
   },
   "outputs": [],
   "source": [
    "import os\n",
    "import pandas as pd"
   ]
  },
  {
   "cell_type": "code",
   "execution_count": 2,
   "outputs": [],
   "source": [
    "df = pd.read_csv('submission.csv')\n",
    "file_names = df['id']\n",
    "\n",
    "file_to_class = {}\n",
    "classes = os.listdir('full')\n",
    "for cls in classes:\n",
    "    temp = {file.split('.')[0]: cls for file in os.listdir(os.path.join('full', cls))}\n",
    "    file_to_class.update(temp)"
   ],
   "metadata": {
    "collapsed": false,
    "pycharm": {
     "name": "#%%\n"
    }
   }
  },
  {
   "cell_type": "code",
   "execution_count": 4,
   "outputs": [
    {
     "ename": "KeyError",
     "evalue": "'2f7095710c9586a2'",
     "output_type": "error",
     "traceback": [
      "\u001B[1;31m---------------------------------------------------------------------------\u001B[0m",
      "\u001B[1;31mKeyError\u001B[0m                                  Traceback (most recent call last)",
      "Input \u001B[1;32mIn [4]\u001B[0m, in \u001B[0;36m<cell line: 1>\u001B[1;34m()\u001B[0m\n\u001B[1;32m----> 1\u001B[0m preds \u001B[38;5;241m=\u001B[39m [file_to_class[file] \u001B[38;5;28;01mfor\u001B[39;00m file \u001B[38;5;129;01min\u001B[39;00m file_names]\n\u001B[0;32m      2\u001B[0m df[\u001B[38;5;124m'\u001B[39m\u001B[38;5;124mlabel\u001B[39m\u001B[38;5;124m'\u001B[39m] \u001B[38;5;241m=\u001B[39m preds\n\u001B[0;32m      3\u001B[0m df\u001B[38;5;241m.\u001B[39mto_csv(\u001B[38;5;124m'\u001B[39m\u001B[38;5;124msubmission.csv\u001B[39m\u001B[38;5;124m'\u001B[39m, index\u001B[38;5;241m=\u001B[39m\u001B[38;5;28;01mFalse\u001B[39;00m)\n",
      "Input \u001B[1;32mIn [4]\u001B[0m, in \u001B[0;36m<listcomp>\u001B[1;34m(.0)\u001B[0m\n\u001B[1;32m----> 1\u001B[0m preds \u001B[38;5;241m=\u001B[39m [\u001B[43mfile_to_class\u001B[49m\u001B[43m[\u001B[49m\u001B[43mfile\u001B[49m\u001B[43m]\u001B[49m \u001B[38;5;28;01mfor\u001B[39;00m file \u001B[38;5;129;01min\u001B[39;00m file_names]\n\u001B[0;32m      2\u001B[0m df[\u001B[38;5;124m'\u001B[39m\u001B[38;5;124mlabel\u001B[39m\u001B[38;5;124m'\u001B[39m] \u001B[38;5;241m=\u001B[39m preds\n\u001B[0;32m      3\u001B[0m df\u001B[38;5;241m.\u001B[39mto_csv(\u001B[38;5;124m'\u001B[39m\u001B[38;5;124msubmission.csv\u001B[39m\u001B[38;5;124m'\u001B[39m, index\u001B[38;5;241m=\u001B[39m\u001B[38;5;28;01mFalse\u001B[39;00m)\n",
      "\u001B[1;31mKeyError\u001B[0m: '2f7095710c9586a2'"
     ]
    }
   ],
   "source": [
    "preds = [file_to_class[file] for file in file_names]\n",
    "df['label'] = preds\n",
    "df.to_csv('submission.csv', index=False)"
   ],
   "metadata": {
    "collapsed": false,
    "pycharm": {
     "name": "#%%\n"
    }
   }
  },
  {
   "cell_type": "code",
   "execution_count": 4,
   "outputs": [],
   "source": [
    "from PIL import Image\n",
    "\n",
    "for cls in classes:\n",
    "    for file in os.listdir(os.path.join('full', cls)):\n",
    "        im = Image.open(os.path.join('full', cls, file))\n",
    "        fill_color = (255, 255, 255)  # your new background color\n",
    "        im = im.convert(\"RGBA\")   # it had mode P after DL it from OP\n",
    "        if im.mode in ('RGBA', 'LA'):\n",
    "            background = Image.new(im.mode[:-1], im.size, fill_color)\n",
    "            background.paste(im, im.split()[-1]) # omit transparency\n",
    "            im = background\n",
    "        os.makedirs(os.path.join('full_jpg', cls), exist_ok=True)\n",
    "        im = im.resize((100, 100))\n",
    "        im.convert(\"L\").save(os.path.join('full_jpg', cls, file.split('.')[0]+'.jpg'))"
   ],
   "metadata": {
    "collapsed": false,
    "pycharm": {
     "name": "#%%\n"
    }
   }
  }
 ],
 "metadata": {
  "kernelspec": {
   "display_name": "Python 3",
   "language": "python",
   "name": "python3"
  },
  "language_info": {
   "codemirror_mode": {
    "name": "ipython",
    "version": 2
   },
   "file_extension": ".py",
   "mimetype": "text/x-python",
   "name": "python",
   "nbconvert_exporter": "python",
   "pygments_lexer": "ipython2",
   "version": "2.7.6"
  }
 },
 "nbformat": 4,
 "nbformat_minor": 0
}