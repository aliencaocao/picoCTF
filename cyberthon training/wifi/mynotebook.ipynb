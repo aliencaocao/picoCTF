{
 "cells": [
  {
   "cell_type": "markdown",
   "metadata": {
    "pycharm": {
     "name": "#%% md\n"
    }
   },
   "source": [
    "# WiFi Localisation Starting Notebook\n",
    "## Cyberthon 2022 organised by CSIT, DCO and HCI\n",
    "\n",
    "This notebook is to help people interact with the data, you may use it if you want to or not.\n",
    "\n",
    "ALT-TAB LABS LLP &copy; 2019 - 2022 All Rights Reserved"
   ]
  },
  {
   "cell_type": "code",
   "execution_count": 1,
   "metadata": {
    "pycharm": {
     "name": "#%%\n"
    }
   },
   "outputs": [],
   "source": [
    "# import libraries\n",
    "import pandas as pd\n",
    "import numpy as np\n",
    "import matplotlib.pyplot as plt\n",
    "\n",
    "# feel free to add any library you need"
   ]
  },
  {
   "cell_type": "code",
   "execution_count": 2,
   "metadata": {
    "pycharm": {
     "name": "#%%\n"
    }
   },
   "outputs": [
    {
     "data": {
      "text/html": [
       "<div>\n",
       "<style scoped>\n",
       "    .dataframe tbody tr th:only-of-type {\n",
       "        vertical-align: middle;\n",
       "    }\n",
       "\n",
       "    .dataframe tbody tr th {\n",
       "        vertical-align: top;\n",
       "    }\n",
       "\n",
       "    .dataframe thead th {\n",
       "        text-align: right;\n",
       "    }\n",
       "</style>\n",
       "<table border=\"1\" class=\"dataframe\">\n",
       "  <thead>\n",
       "    <tr style=\"text-align: right;\">\n",
       "      <th></th>\n",
       "      <th>9vdEmSoDVo5bPvTqLEci</th>\n",
       "      <th>qOlzm9dWsWbSTRqfc9x0</th>\n",
       "      <th>1mlZkF81youDiadsCub0</th>\n",
       "      <th>capZWyIwXHbhuXh67dPx</th>\n",
       "      <th>jo2EGFLxlr5pEtUr2hIw</th>\n",
       "      <th>2HJ59WoZEY8QYMDeVNJ9</th>\n",
       "      <th>cS565f9XQWeyYG9etG9R</th>\n",
       "      <th>dU0La1yLqRDPqAbxI0g9</th>\n",
       "      <th>6qxhQwhZsas7S9HkcGmv</th>\n",
       "      <th>e4SYxYNJiyHRpdWb50uK</th>\n",
       "      <th>...</th>\n",
       "      <th>FMIDAN951McoonAtWDFE</th>\n",
       "      <th>ztPqW3dRWXz60Bw8ubjg</th>\n",
       "      <th>2HVZqpty0FRBGl66Fhqd</th>\n",
       "      <th>McAmTquLrT1q1nbpWuzA</th>\n",
       "      <th>9KIssMatNQMu20uCPkZO</th>\n",
       "      <th>DsxvYPLVDQQdbXCjlGCe</th>\n",
       "      <th>WHJfDSbNggDnH1mRzSoX</th>\n",
       "      <th>et9ILG7uZyJIdBZgLOk8</th>\n",
       "      <th>pSwO7lLaIpNDVPvwEroZ</th>\n",
       "      <th>DboAV4VBoOIrkMdMhmjL</th>\n",
       "    </tr>\n",
       "  </thead>\n",
       "  <tbody>\n",
       "    <tr>\n",
       "      <td>count</td>\n",
       "      <td>8</td>\n",
       "      <td>8</td>\n",
       "      <td>8</td>\n",
       "      <td>8</td>\n",
       "      <td>8</td>\n",
       "      <td>8</td>\n",
       "      <td>8</td>\n",
       "      <td>8</td>\n",
       "      <td>8</td>\n",
       "      <td>8</td>\n",
       "      <td>...</td>\n",
       "      <td>8</td>\n",
       "      <td>8</td>\n",
       "      <td>8</td>\n",
       "      <td>8</td>\n",
       "      <td>8</td>\n",
       "      <td>8</td>\n",
       "      <td>8</td>\n",
       "      <td>8</td>\n",
       "      <td>8</td>\n",
       "      <td>8</td>\n",
       "    </tr>\n",
       "    <tr>\n",
       "      <td>unique</td>\n",
       "      <td>8</td>\n",
       "      <td>8</td>\n",
       "      <td>8</td>\n",
       "      <td>8</td>\n",
       "      <td>8</td>\n",
       "      <td>8</td>\n",
       "      <td>8</td>\n",
       "      <td>8</td>\n",
       "      <td>8</td>\n",
       "      <td>8</td>\n",
       "      <td>...</td>\n",
       "      <td>8</td>\n",
       "      <td>8</td>\n",
       "      <td>8</td>\n",
       "      <td>8</td>\n",
       "      <td>8</td>\n",
       "      <td>8</td>\n",
       "      <td>8</td>\n",
       "      <td>8</td>\n",
       "      <td>8</td>\n",
       "      <td>8</td>\n",
       "    </tr>\n",
       "    <tr>\n",
       "      <td>top</td>\n",
       "      <td>{'__datatype__': 'timestamp', 'value': {'_seco...</td>\n",
       "      <td>{'__datatype__': 'timestamp', 'value': {'_seco...</td>\n",
       "      <td>{'__datatype__': 'timestamp', 'value': {'_seco...</td>\n",
       "      <td>{'__datatype__': 'timestamp', 'value': {'_seco...</td>\n",
       "      <td>{'__datatype__': 'timestamp', 'value': {'_seco...</td>\n",
       "      <td>{'__datatype__': 'timestamp', 'value': {'_seco...</td>\n",
       "      <td>{'__datatype__': 'timestamp', 'value': {'_seco...</td>\n",
       "      <td>{'__datatype__': 'timestamp', 'value': {'_seco...</td>\n",
       "      <td>{'__datatype__': 'timestamp', 'value': {'_seco...</td>\n",
       "      <td>{'__datatype__': 'timestamp', 'value': {'_seco...</td>\n",
       "      <td>...</td>\n",
       "      <td>{'__datatype__': 'timestamp', 'value': {'_seco...</td>\n",
       "      <td>{'__datatype__': 'timestamp', 'value': {'_seco...</td>\n",
       "      <td>{'__datatype__': 'timestamp', 'value': {'_seco...</td>\n",
       "      <td>{'__datatype__': 'timestamp', 'value': {'_seco...</td>\n",
       "      <td>{'__datatype__': 'timestamp', 'value': {'_seco...</td>\n",
       "      <td>{'__datatype__': 'timestamp', 'value': {'_seco...</td>\n",
       "      <td>{'18:64:72:56:12:f0': [-91], '18:64:72:56:44:5...</td>\n",
       "      <td>{'__datatype__': 'timestamp', 'value': {'_seco...</td>\n",
       "      <td>{'18:64:72:56:2c:88': [-90], '18:64:72:56:44:4...</td>\n",
       "      <td>{'__datatype__': 'timestamp', 'value': {'_seco...</td>\n",
       "    </tr>\n",
       "    <tr>\n",
       "      <td>freq</td>\n",
       "      <td>1</td>\n",
       "      <td>1</td>\n",
       "      <td>1</td>\n",
       "      <td>1</td>\n",
       "      <td>1</td>\n",
       "      <td>1</td>\n",
       "      <td>1</td>\n",
       "      <td>1</td>\n",
       "      <td>1</td>\n",
       "      <td>1</td>\n",
       "      <td>...</td>\n",
       "      <td>1</td>\n",
       "      <td>1</td>\n",
       "      <td>1</td>\n",
       "      <td>1</td>\n",
       "      <td>1</td>\n",
       "      <td>1</td>\n",
       "      <td>1</td>\n",
       "      <td>1</td>\n",
       "      <td>1</td>\n",
       "      <td>1</td>\n",
       "    </tr>\n",
       "  </tbody>\n",
       "</table>\n",
       "<p>4 rows × 404 columns</p>\n",
       "</div>"
      ],
      "text/plain": [
       "                                     9vdEmSoDVo5bPvTqLEci  \\\n",
       "count                                                   8   \n",
       "unique                                                  8   \n",
       "top     {'__datatype__': 'timestamp', 'value': {'_seco...   \n",
       "freq                                                    1   \n",
       "\n",
       "                                     qOlzm9dWsWbSTRqfc9x0  \\\n",
       "count                                                   8   \n",
       "unique                                                  8   \n",
       "top     {'__datatype__': 'timestamp', 'value': {'_seco...   \n",
       "freq                                                    1   \n",
       "\n",
       "                                     1mlZkF81youDiadsCub0  \\\n",
       "count                                                   8   \n",
       "unique                                                  8   \n",
       "top     {'__datatype__': 'timestamp', 'value': {'_seco...   \n",
       "freq                                                    1   \n",
       "\n",
       "                                     capZWyIwXHbhuXh67dPx  \\\n",
       "count                                                   8   \n",
       "unique                                                  8   \n",
       "top     {'__datatype__': 'timestamp', 'value': {'_seco...   \n",
       "freq                                                    1   \n",
       "\n",
       "                                     jo2EGFLxlr5pEtUr2hIw  \\\n",
       "count                                                   8   \n",
       "unique                                                  8   \n",
       "top     {'__datatype__': 'timestamp', 'value': {'_seco...   \n",
       "freq                                                    1   \n",
       "\n",
       "                                     2HJ59WoZEY8QYMDeVNJ9  \\\n",
       "count                                                   8   \n",
       "unique                                                  8   \n",
       "top     {'__datatype__': 'timestamp', 'value': {'_seco...   \n",
       "freq                                                    1   \n",
       "\n",
       "                                     cS565f9XQWeyYG9etG9R  \\\n",
       "count                                                   8   \n",
       "unique                                                  8   \n",
       "top     {'__datatype__': 'timestamp', 'value': {'_seco...   \n",
       "freq                                                    1   \n",
       "\n",
       "                                     dU0La1yLqRDPqAbxI0g9  \\\n",
       "count                                                   8   \n",
       "unique                                                  8   \n",
       "top     {'__datatype__': 'timestamp', 'value': {'_seco...   \n",
       "freq                                                    1   \n",
       "\n",
       "                                     6qxhQwhZsas7S9HkcGmv  \\\n",
       "count                                                   8   \n",
       "unique                                                  8   \n",
       "top     {'__datatype__': 'timestamp', 'value': {'_seco...   \n",
       "freq                                                    1   \n",
       "\n",
       "                                     e4SYxYNJiyHRpdWb50uK  ...  \\\n",
       "count                                                   8  ...   \n",
       "unique                                                  8  ...   \n",
       "top     {'__datatype__': 'timestamp', 'value': {'_seco...  ...   \n",
       "freq                                                    1  ...   \n",
       "\n",
       "                                     FMIDAN951McoonAtWDFE  \\\n",
       "count                                                   8   \n",
       "unique                                                  8   \n",
       "top     {'__datatype__': 'timestamp', 'value': {'_seco...   \n",
       "freq                                                    1   \n",
       "\n",
       "                                     ztPqW3dRWXz60Bw8ubjg  \\\n",
       "count                                                   8   \n",
       "unique                                                  8   \n",
       "top     {'__datatype__': 'timestamp', 'value': {'_seco...   \n",
       "freq                                                    1   \n",
       "\n",
       "                                     2HVZqpty0FRBGl66Fhqd  \\\n",
       "count                                                   8   \n",
       "unique                                                  8   \n",
       "top     {'__datatype__': 'timestamp', 'value': {'_seco...   \n",
       "freq                                                    1   \n",
       "\n",
       "                                     McAmTquLrT1q1nbpWuzA  \\\n",
       "count                                                   8   \n",
       "unique                                                  8   \n",
       "top     {'__datatype__': 'timestamp', 'value': {'_seco...   \n",
       "freq                                                    1   \n",
       "\n",
       "                                     9KIssMatNQMu20uCPkZO  \\\n",
       "count                                                   8   \n",
       "unique                                                  8   \n",
       "top     {'__datatype__': 'timestamp', 'value': {'_seco...   \n",
       "freq                                                    1   \n",
       "\n",
       "                                     DsxvYPLVDQQdbXCjlGCe  \\\n",
       "count                                                   8   \n",
       "unique                                                  8   \n",
       "top     {'__datatype__': 'timestamp', 'value': {'_seco...   \n",
       "freq                                                    1   \n",
       "\n",
       "                                     WHJfDSbNggDnH1mRzSoX  \\\n",
       "count                                                   8   \n",
       "unique                                                  8   \n",
       "top     {'18:64:72:56:12:f0': [-91], '18:64:72:56:44:5...   \n",
       "freq                                                    1   \n",
       "\n",
       "                                     et9ILG7uZyJIdBZgLOk8  \\\n",
       "count                                                   8   \n",
       "unique                                                  8   \n",
       "top     {'__datatype__': 'timestamp', 'value': {'_seco...   \n",
       "freq                                                    1   \n",
       "\n",
       "                                     pSwO7lLaIpNDVPvwEroZ  \\\n",
       "count                                                   8   \n",
       "unique                                                  8   \n",
       "top     {'18:64:72:56:2c:88': [-90], '18:64:72:56:44:4...   \n",
       "freq                                                    1   \n",
       "\n",
       "                                     DboAV4VBoOIrkMdMhmjL  \n",
       "count                                                   8  \n",
       "unique                                                  8  \n",
       "top     {'__datatype__': 'timestamp', 'value': {'_seco...  \n",
       "freq                                                    1  \n",
       "\n",
       "[4 rows x 404 columns]"
      ]
     },
     "execution_count": 2,
     "metadata": {},
     "output_type": "execute_result"
    }
   ],
   "source": [
    "# load training data\n",
    "df0 = pd.read_json(\"./wifi_train.json\")\n",
    "df0.describe()"
   ]
  },
  {
   "cell_type": "code",
   "execution_count": 3,
   "metadata": {
    "scrolled": true,
    "pycharm": {
     "name": "#%%\n"
    }
   },
   "outputs": [],
   "source": [
    "# preprocess your data\n",
    "\n",
    "# sample iteration over df0\n",
    "for ssid in df0:\n",
    "    locationX = df0[ssid]['location']['x']\n",
    "    locationY = df0[ssid]['location']['y']\n",
    "    # print(ssid, locationX, locationY) # this prints 404 lines\n",
    "    # do some other stuff you want to"
   ]
  },
  {
   "cell_type": "code",
   "execution_count": null,
   "metadata": {
    "pycharm": {
     "name": "#%%\n"
    }
   },
   "outputs": [],
   "source": [
    "# format training data\n",
    "# do train_test_split"
   ]
  },
  {
   "cell_type": "code",
   "execution_count": null,
   "metadata": {
    "pycharm": {
     "name": "#%%\n"
    }
   },
   "outputs": [],
   "source": [
    "# define your model"
   ]
  },
  {
   "cell_type": "code",
   "execution_count": null,
   "metadata": {
    "pycharm": {
     "name": "#%%\n"
    }
   },
   "outputs": [],
   "source": [
    "# do your training here"
   ]
  },
  {
   "cell_type": "code",
   "execution_count": null,
   "metadata": {
    "pycharm": {
     "name": "#%%\n"
    }
   },
   "outputs": [],
   "source": [
    "# do your validation here"
   ]
  },
  {
   "cell_type": "code",
   "execution_count": null,
   "metadata": {
    "pycharm": {
     "name": "#%%\n"
    }
   },
   "outputs": [],
   "source": [
    "# use plt to visualise your model's performance (optional)\n",
    "#\n",
    "# fig, ax = plt.subplots(figsize=(10,10))\n",
    "# ax.scatter(y_true_x, y_true_y) # change these variables to your ones\n",
    "# ax.scatter(y_pred_x, y_pred_y) # change these variables to your ones"
   ]
  },
  {
   "cell_type": "code",
   "execution_count": 4,
   "metadata": {
    "pycharm": {
     "name": "#%%\n"
    }
   },
   "outputs": [
    {
     "data": {
      "text/html": [
       "<div>\n",
       "<style scoped>\n",
       "    .dataframe tbody tr th:only-of-type {\n",
       "        vertical-align: middle;\n",
       "    }\n",
       "\n",
       "    .dataframe tbody tr th {\n",
       "        vertical-align: top;\n",
       "    }\n",
       "\n",
       "    .dataframe thead th {\n",
       "        text-align: right;\n",
       "    }\n",
       "</style>\n",
       "<table border=\"1\" class=\"dataframe\">\n",
       "  <thead>\n",
       "    <tr style=\"text-align: right;\">\n",
       "      <th></th>\n",
       "      <th>KnW7bcCTFKSkaxQM9HwS</th>\n",
       "      <th>WVdanpyXB4Le6D7Qlxqm</th>\n",
       "      <th>yr3L2JcYm938dXdtCYj0</th>\n",
       "      <th>9MGDml7ZSWLVrxkytoR8</th>\n",
       "      <th>bFesNkqRjhgvo7bAHQs6</th>\n",
       "      <th>9xtGXaudjqX40DDTw2wc</th>\n",
       "      <th>x73WexagJ3epot4Vt5hI</th>\n",
       "      <th>HFne5SeGBk44BKDH4zS2</th>\n",
       "      <th>w8Pjg1FP9CweGmwiNdaM</th>\n",
       "      <th>zcjOWinxMd4Xw3aysC9x</th>\n",
       "      <th>...</th>\n",
       "      <th>dpmzX8WRwIywLxWZLVAd</th>\n",
       "      <th>GQ3QR7GIeS1NZxQnYfHR</th>\n",
       "      <th>zdI1UZe1hKbMzxAEAnoi</th>\n",
       "      <th>ggOpXDbzjI5hLVh2G6cn</th>\n",
       "      <th>GU4HX4y0l1Pm8cGukyKA</th>\n",
       "      <th>dHXIwA3dTzHRZjpxlA3Y</th>\n",
       "      <th>n3y4V2w0XSK8O92AUsM6</th>\n",
       "      <th>zekUyNFAwIx2rBmVjJAX</th>\n",
       "      <th>f1Vq2wQO5RObCX2pZetw</th>\n",
       "      <th>BTWjsEIjfE4ZVZkHbXCo</th>\n",
       "    </tr>\n",
       "  </thead>\n",
       "  <tbody>\n",
       "    <tr>\n",
       "      <td>count</td>\n",
       "      <td>8</td>\n",
       "      <td>8</td>\n",
       "      <td>8</td>\n",
       "      <td>8</td>\n",
       "      <td>8</td>\n",
       "      <td>8</td>\n",
       "      <td>8</td>\n",
       "      <td>8</td>\n",
       "      <td>8</td>\n",
       "      <td>8</td>\n",
       "      <td>...</td>\n",
       "      <td>8</td>\n",
       "      <td>8</td>\n",
       "      <td>8</td>\n",
       "      <td>8</td>\n",
       "      <td>8</td>\n",
       "      <td>8</td>\n",
       "      <td>8</td>\n",
       "      <td>8</td>\n",
       "      <td>8</td>\n",
       "      <td>8</td>\n",
       "    </tr>\n",
       "    <tr>\n",
       "      <td>unique</td>\n",
       "      <td>8</td>\n",
       "      <td>8</td>\n",
       "      <td>8</td>\n",
       "      <td>8</td>\n",
       "      <td>8</td>\n",
       "      <td>8</td>\n",
       "      <td>8</td>\n",
       "      <td>8</td>\n",
       "      <td>8</td>\n",
       "      <td>8</td>\n",
       "      <td>...</td>\n",
       "      <td>8</td>\n",
       "      <td>8</td>\n",
       "      <td>8</td>\n",
       "      <td>8</td>\n",
       "      <td>8</td>\n",
       "      <td>8</td>\n",
       "      <td>8</td>\n",
       "      <td>8</td>\n",
       "      <td>8</td>\n",
       "      <td>8</td>\n",
       "    </tr>\n",
       "    <tr>\n",
       "      <td>top</td>\n",
       "      <td>{'__datatype__': 'timestamp', 'value': {'_seco...</td>\n",
       "      <td>{'__datatype__': 'timestamp', 'value': {'_seco...</td>\n",
       "      <td>{'__datatype__': 'timestamp', 'value': {'_seco...</td>\n",
       "      <td>{'__datatype__': 'timestamp', 'value': {'_seco...</td>\n",
       "      <td>{'__datatype__': 'timestamp', 'value': {'_seco...</td>\n",
       "      <td>{'__datatype__': 'timestamp', 'value': {'_seco...</td>\n",
       "      <td>{'__datatype__': 'timestamp', 'value': {'_seco...</td>\n",
       "      <td>{'__datatype__': 'timestamp', 'value': {'_seco...</td>\n",
       "      <td>{'__datatype__': 'timestamp', 'value': {'_seco...</td>\n",
       "      <td>{'__datatype__': 'timestamp', 'value': {'_seco...</td>\n",
       "      <td>...</td>\n",
       "      <td>{'__datatype__': 'timestamp', 'value': {'_seco...</td>\n",
       "      <td>{'__datatype__': 'timestamp', 'value': {'_seco...</td>\n",
       "      <td>{'__datatype__': 'timestamp', 'value': {'_seco...</td>\n",
       "      <td>{'__datatype__': 'timestamp', 'value': {'_seco...</td>\n",
       "      <td>{'__datatype__': 'timestamp', 'value': {'_seco...</td>\n",
       "      <td>{'__datatype__': 'timestamp', 'value': {'_seco...</td>\n",
       "      <td>{'__datatype__': 'timestamp', 'value': {'_seco...</td>\n",
       "      <td>{'__datatype__': 'timestamp', 'value': {'_seco...</td>\n",
       "      <td>{'__datatype__': 'timestamp', 'value': {'_seco...</td>\n",
       "      <td>{'__datatype__': 'timestamp', 'value': {'_seco...</td>\n",
       "    </tr>\n",
       "    <tr>\n",
       "      <td>freq</td>\n",
       "      <td>1</td>\n",
       "      <td>1</td>\n",
       "      <td>1</td>\n",
       "      <td>1</td>\n",
       "      <td>1</td>\n",
       "      <td>1</td>\n",
       "      <td>1</td>\n",
       "      <td>1</td>\n",
       "      <td>1</td>\n",
       "      <td>1</td>\n",
       "      <td>...</td>\n",
       "      <td>1</td>\n",
       "      <td>1</td>\n",
       "      <td>1</td>\n",
       "      <td>1</td>\n",
       "      <td>1</td>\n",
       "      <td>1</td>\n",
       "      <td>1</td>\n",
       "      <td>1</td>\n",
       "      <td>1</td>\n",
       "      <td>1</td>\n",
       "    </tr>\n",
       "  </tbody>\n",
       "</table>\n",
       "<p>4 rows × 101 columns</p>\n",
       "</div>"
      ],
      "text/plain": [
       "                                     KnW7bcCTFKSkaxQM9HwS  \\\n",
       "count                                                   8   \n",
       "unique                                                  8   \n",
       "top     {'__datatype__': 'timestamp', 'value': {'_seco...   \n",
       "freq                                                    1   \n",
       "\n",
       "                                     WVdanpyXB4Le6D7Qlxqm  \\\n",
       "count                                                   8   \n",
       "unique                                                  8   \n",
       "top     {'__datatype__': 'timestamp', 'value': {'_seco...   \n",
       "freq                                                    1   \n",
       "\n",
       "                                     yr3L2JcYm938dXdtCYj0  \\\n",
       "count                                                   8   \n",
       "unique                                                  8   \n",
       "top     {'__datatype__': 'timestamp', 'value': {'_seco...   \n",
       "freq                                                    1   \n",
       "\n",
       "                                     9MGDml7ZSWLVrxkytoR8  \\\n",
       "count                                                   8   \n",
       "unique                                                  8   \n",
       "top     {'__datatype__': 'timestamp', 'value': {'_seco...   \n",
       "freq                                                    1   \n",
       "\n",
       "                                     bFesNkqRjhgvo7bAHQs6  \\\n",
       "count                                                   8   \n",
       "unique                                                  8   \n",
       "top     {'__datatype__': 'timestamp', 'value': {'_seco...   \n",
       "freq                                                    1   \n",
       "\n",
       "                                     9xtGXaudjqX40DDTw2wc  \\\n",
       "count                                                   8   \n",
       "unique                                                  8   \n",
       "top     {'__datatype__': 'timestamp', 'value': {'_seco...   \n",
       "freq                                                    1   \n",
       "\n",
       "                                     x73WexagJ3epot4Vt5hI  \\\n",
       "count                                                   8   \n",
       "unique                                                  8   \n",
       "top     {'__datatype__': 'timestamp', 'value': {'_seco...   \n",
       "freq                                                    1   \n",
       "\n",
       "                                     HFne5SeGBk44BKDH4zS2  \\\n",
       "count                                                   8   \n",
       "unique                                                  8   \n",
       "top     {'__datatype__': 'timestamp', 'value': {'_seco...   \n",
       "freq                                                    1   \n",
       "\n",
       "                                     w8Pjg1FP9CweGmwiNdaM  \\\n",
       "count                                                   8   \n",
       "unique                                                  8   \n",
       "top     {'__datatype__': 'timestamp', 'value': {'_seco...   \n",
       "freq                                                    1   \n",
       "\n",
       "                                     zcjOWinxMd4Xw3aysC9x  ...  \\\n",
       "count                                                   8  ...   \n",
       "unique                                                  8  ...   \n",
       "top     {'__datatype__': 'timestamp', 'value': {'_seco...  ...   \n",
       "freq                                                    1  ...   \n",
       "\n",
       "                                     dpmzX8WRwIywLxWZLVAd  \\\n",
       "count                                                   8   \n",
       "unique                                                  8   \n",
       "top     {'__datatype__': 'timestamp', 'value': {'_seco...   \n",
       "freq                                                    1   \n",
       "\n",
       "                                     GQ3QR7GIeS1NZxQnYfHR  \\\n",
       "count                                                   8   \n",
       "unique                                                  8   \n",
       "top     {'__datatype__': 'timestamp', 'value': {'_seco...   \n",
       "freq                                                    1   \n",
       "\n",
       "                                     zdI1UZe1hKbMzxAEAnoi  \\\n",
       "count                                                   8   \n",
       "unique                                                  8   \n",
       "top     {'__datatype__': 'timestamp', 'value': {'_seco...   \n",
       "freq                                                    1   \n",
       "\n",
       "                                     ggOpXDbzjI5hLVh2G6cn  \\\n",
       "count                                                   8   \n",
       "unique                                                  8   \n",
       "top     {'__datatype__': 'timestamp', 'value': {'_seco...   \n",
       "freq                                                    1   \n",
       "\n",
       "                                     GU4HX4y0l1Pm8cGukyKA  \\\n",
       "count                                                   8   \n",
       "unique                                                  8   \n",
       "top     {'__datatype__': 'timestamp', 'value': {'_seco...   \n",
       "freq                                                    1   \n",
       "\n",
       "                                     dHXIwA3dTzHRZjpxlA3Y  \\\n",
       "count                                                   8   \n",
       "unique                                                  8   \n",
       "top     {'__datatype__': 'timestamp', 'value': {'_seco...   \n",
       "freq                                                    1   \n",
       "\n",
       "                                     n3y4V2w0XSK8O92AUsM6  \\\n",
       "count                                                   8   \n",
       "unique                                                  8   \n",
       "top     {'__datatype__': 'timestamp', 'value': {'_seco...   \n",
       "freq                                                    1   \n",
       "\n",
       "                                     zekUyNFAwIx2rBmVjJAX  \\\n",
       "count                                                   8   \n",
       "unique                                                  8   \n",
       "top     {'__datatype__': 'timestamp', 'value': {'_seco...   \n",
       "freq                                                    1   \n",
       "\n",
       "                                     f1Vq2wQO5RObCX2pZetw  \\\n",
       "count                                                   8   \n",
       "unique                                                  8   \n",
       "top     {'__datatype__': 'timestamp', 'value': {'_seco...   \n",
       "freq                                                    1   \n",
       "\n",
       "                                     BTWjsEIjfE4ZVZkHbXCo  \n",
       "count                                                   8  \n",
       "unique                                                  8  \n",
       "top     {'__datatype__': 'timestamp', 'value': {'_seco...  \n",
       "freq                                                    1  \n",
       "\n",
       "[4 rows x 101 columns]"
      ]
     },
     "execution_count": 4,
     "metadata": {},
     "output_type": "execute_result"
    }
   ],
   "source": [
    "# load test data\n",
    "df1 = pd.read_json(\"./wifi_test.json\")\n",
    "df1.describe()"
   ]
  },
  {
   "cell_type": "code",
   "execution_count": 5,
   "metadata": {
    "pycharm": {
     "name": "#%%\n"
    }
   },
   "outputs": [],
   "source": [
    "# preprocess your test data\n",
    "\n",
    "# sample iteration over df0\n",
    "for ssid in df1:\n",
    "    locationX = df1[ssid]['location']['x']\n",
    "    locationY = df1[ssid]['location']['y']\n",
    "    # print(ssid, locationX, locationY) # this prints 404 lines\n",
    "    # do some other stuff you want to"
   ]
  },
  {
   "cell_type": "code",
   "execution_count": null,
   "metadata": {
    "pycharm": {
     "name": "#%%\n"
    }
   },
   "outputs": [],
   "source": [
    "# format test data"
   ]
  },
  {
   "cell_type": "code",
   "execution_count": null,
   "metadata": {
    "pycharm": {
     "name": "#%%\n"
    }
   },
   "outputs": [],
   "source": [
    "# predict the location X and Y using your model"
   ]
  },
  {
   "cell_type": "code",
   "execution_count": 6,
   "metadata": {
    "pycharm": {
     "name": "#%%\n"
    }
   },
   "outputs": [
    {
     "name": "stdout",
     "output_type": "stream",
     "text": [
      "      id                scanid locationX locationY\n",
      "0      0  KnW7bcCTFKSkaxQM9HwS         0         0\n",
      "1      1  WVdanpyXB4Le6D7Qlxqm         0         0\n",
      "2      2  yr3L2JcYm938dXdtCYj0         0         0\n",
      "3      3  9MGDml7ZSWLVrxkytoR8         0         0\n",
      "4      4  bFesNkqRjhgvo7bAHQs6         0         0\n",
      "..   ...                   ...       ...       ...\n",
      "96    96  dHXIwA3dTzHRZjpxlA3Y         0         0\n",
      "97    97  n3y4V2w0XSK8O92AUsM6         0         0\n",
      "98    98  zekUyNFAwIx2rBmVjJAX         0         0\n",
      "99    99  f1Vq2wQO5RObCX2pZetw         0         0\n",
      "100  100  BTWjsEIjfE4ZVZkHbXCo         0         0\n",
      "\n",
      "[101 rows x 4 columns]\n"
     ]
    }
   ],
   "source": [
    "# generate mysubmission\n",
    "df2 = pd.read_csv('submission.csv')\n",
    "for i, row in df2.iterrows():\n",
    "    df2.at[i,'locationX'] = 0\n",
    "    df2.at[i,'locationY'] = 0\n",
    "\n",
    "print(df2)"
   ]
  },
  {
   "cell_type": "code",
   "execution_count": 7,
   "metadata": {
    "pycharm": {
     "name": "#%%\n"
    }
   },
   "outputs": [],
   "source": [
    "# save mysubmission to file mysubmission.csv\n",
    "df2.to_csv('./mysubmission.csv', index=False)"
   ]
  },
  {
   "cell_type": "markdown",
   "metadata": {
    "pycharm": {
     "name": "#%% md\n"
    }
   },
   "source": [
    "# Submitting to the CTFSG DataScience Grader\n",
    "ALT-TAB LABS LLP &copy; 2020-2021 All Rights Reserved"
   ]
  },
  {
   "cell_type": "markdown",
   "metadata": {
    "pycharm": {
     "name": "#%% md\n"
    }
   },
   "source": [
    "# Using the web interface\n",
    "\n",
    "Just visit the grader URL provided with the questions and upload using the web interface:\n",
    "http://ABC.XYZ.ctf.sg:12345/"
   ]
  },
  {
   "cell_type": "markdown",
   "metadata": {
    "pycharm": {
     "name": "#%% md\n"
    }
   },
   "source": [
    "# Using the python library"
   ]
  },
  {
   "cell_type": "code",
   "execution_count": null,
   "metadata": {
    "pycharm": {
     "name": "#%%\n"
    }
   },
   "outputs": [],
   "source": [
    "# Download CTFSG Grader Libraries\n",
    "import urllib.request, os\n",
    "urllib.request.urlretrieve('https://raw.githubusercontent.com/alttablabs/ctfsg-utils/master/pyctfsglib.py', './pyctfsglib.py')\n",
    "print('Downloaded pyctfsglib.py:', 'pyctfsglib.py' in os.listdir())"
   ]
  },
  {
   "cell_type": "code",
   "execution_count": null,
   "metadata": {
    "pycharm": {
     "name": "#%%\n"
    }
   },
   "outputs": [],
   "source": [
    "# Connect to graders\n",
    "import pyctfsglib as ctfsg\n",
    "import random\n",
    "\n",
    "USER_TOKEN = \"USER_TOKEN\" # You need to fill this up\n",
    "GRADER_URL = random.choice([ # Check if these are correct GRADER URLS for the specific challenge\n",
    "    \"http://ABC.XYZ.ctf.sg:12345/\",\n",
    "    \"http://ABC.XYZ.ctf.sg:23456/\"\n",
    "])\n",
    "\n",
    "grader = ctfsg.DSGraderClient(GRADER_URL, USER_TOKEN)"
   ]
  },
  {
   "cell_type": "code",
   "execution_count": null,
   "metadata": {
    "pycharm": {
     "name": "#%%\n"
    }
   },
   "outputs": [],
   "source": [
    "# Submitting a file\n",
    "grader.submitFile('./mysubmission.csv')"
   ]
  }
 ],
 "metadata": {
  "kernelspec": {
   "display_name": "Python 3",
   "language": "python",
   "name": "python3"
  },
  "language_info": {
   "codemirror_mode": {
    "name": "ipython",
    "version": 3
   },
   "file_extension": ".py",
   "mimetype": "text/x-python",
   "name": "python",
   "nbconvert_exporter": "python",
   "pygments_lexer": "ipython3",
   "version": "3.7.4"
  }
 },
 "nbformat": 4,
 "nbformat_minor": 4
}