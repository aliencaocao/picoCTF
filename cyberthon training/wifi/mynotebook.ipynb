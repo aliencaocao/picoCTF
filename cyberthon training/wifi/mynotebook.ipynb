{
 "cells": [
  {
   "cell_type": "markdown",
   "metadata": {
    "pycharm": {
     "name": "#%% md\n"
    }
   },
   "source": [
    "# WiFi Localisation Starting Notebook\n",
    "## Cyberthon 2022 organised by CSIT, DCO and HCI\n",
    "\n",
    "This notebook is to help people interact with the data, you may use it if you want to or not.\n",
    "\n",
    "ALT-TAB LABS LLP &copy; 2019 - 2022 All Rights Reserved"
   ]
  },
  {
   "cell_type": "code",
   "execution_count": 1,
   "metadata": {
    "pycharm": {
     "name": "#%%\n"
    }
   },
   "outputs": [],
   "source": [
    "# import libraries\n",
    "import json\n",
    "import pandas as pd\n",
    "import numpy as np\n",
    "import matplotlib.pyplot as plt\n",
    "from statistics import mean\n",
    "import math\n",
    "\n",
    "# feel free to add any library you need"
   ]
  },
  {
   "cell_type": "code",
   "execution_count": 2,
   "metadata": {
    "pycharm": {
     "name": "#%%\n"
    }
   },
   "outputs": [],
   "source": [
    "# load training data\n",
    "with open('wifi_train.json', 'r') as f:\n",
    "    train_json = json.load(f)\n",
    "df_train = pd.read_csv('train.csv', index_col=0, dtype={'scanid': str, 'locationX': np.float64, 'locationY': np.float64})\n",
    "scanid = df_train['scanid'].values\n",
    "locationX = df_train['locationX'].values\n",
    "locationY = df_train['locationY'].values\n",
    "location_train = list(zip(locationX, locationY))"
   ]
  },
  {
   "cell_type": "code",
   "execution_count": 3,
   "metadata": {
    "scrolled": true,
    "pycharm": {
     "name": "#%%\n"
    }
   },
   "outputs": [],
   "source": [
    "# preprocess your data\n",
    "\n",
    "timestamp_train = []\n",
    "mac_list = set()\n",
    "\n",
    "\n",
    "def rssi_to_distance(rssi):\n",
    "    return pow(10, ((27.55-20*math.log10(2.4e9)+rssi)/20))  # 10^((measured power-20*log(base10)(frequency)+signal strength)/20)\n",
    "\n",
    "\n",
    "for ssid in scanid:\n",
    "    timestamp_train.append(train_json[ssid]['timestamp']['value']['_seconds'])\n",
    "    data = train_json[ssid]['data']\n",
    "    mac_list.update(data.keys())\n",
    "\n",
    "rssi_train = {mac: [] for mac in mac_list}\n",
    "for ssid in scanid:\n",
    "    for mac in mac_list:\n",
    "        if mac in train_json[ssid]['data'].keys():\n",
    "            d = [rssi_to_distance(r) for r in train_json[ssid]['data'][mac]]\n",
    "            d = mean(d)\n",
    "            rssi_train[mac] += [d]\n",
    "        else:\n",
    "            rssi_train[mac] += [0.0]  # fill NA with 0\n",
    "\n",
    "assert all([len(rssi) == len(location_train) for rssi in rssi_train.values()])\n",
    "features_df = pd.concat([pd.DataFrame({'timestamp': timestamp_train}), pd.DataFrame(rssi_train)], axis=1)\n",
    "assert len(features_df) == len(location_train)"
   ]
  },
  {
   "cell_type": "code",
   "execution_count": 4,
   "outputs": [
    {
     "data": {
      "text/plain": "MultiOutputRegressor(estimator=KNeighborsRegressor(n_jobs=-1, n_neighbors=3,\n                                                   p=30, weights='distance'),\n                     n_jobs=-1)"
     },
     "execution_count": 4,
     "metadata": {},
     "output_type": "execute_result"
    }
   ],
   "source": [
    "from sklearn import *\n",
    "\n",
    "# model = neighbors.KNeighborsRegressor(n_neighbors=5, weights='distance', p=30, n_jobs=-1)\n",
    "model2 = ensemble.ExtraTreesRegressor(n_estimators=200, verbose=1, n_jobs=-1)\n",
    "model3 = neighbors.KNeighborsRegressor(n_neighbors=3, weights='distance', p=30, n_jobs=-1)\n",
    "# model = multioutput.MultiOutputRegressor(model, n_jobs=-1)\n",
    "model2 = multioutput.MultiOutputRegressor(model2, n_jobs=-1)\n",
    "model3 = multioutput.MultiOutputRegressor(model3, n_jobs=-1)\n",
    "\n",
    "# model.fit(features_df, location_train)\n",
    "model2.fit(features_df, location_train)\n",
    "model3.fit(features_df, location_train)"
   ],
   "metadata": {
    "collapsed": false,
    "pycharm": {
     "name": "#%%\n"
    }
   }
  },
  {
   "cell_type": "code",
   "execution_count": 5,
   "metadata": {
    "pycharm": {
     "name": "#%%\n"
    }
   },
   "outputs": [],
   "source": [
    "# load test data\n",
    "with open('wifi_test.json', 'r') as f:\n",
    "    test_json = json.load(f)"
   ]
  },
  {
   "cell_type": "code",
   "execution_count": 6,
   "metadata": {
    "pycharm": {
     "name": "#%%\n"
    }
   },
   "outputs": [],
   "source": [
    "# preprocess your test data\n",
    "\n",
    "timestamp_test = []\n",
    "df_test = pd.read_csv('submission.csv')\n",
    "scanid_test = df_test['scanid'].values\n",
    "\n",
    "for ssid in scanid_test:\n",
    "    timestamp_test.append(test_json[ssid]['timestamp']['value']['_seconds'])\n",
    "    data = test_json[ssid]['data']\n",
    "\n",
    "rssi_test = {mac: [] for mac in mac_list}\n",
    "for ssid in scanid_test:\n",
    "    for mac in mac_list:\n",
    "        if mac in test_json[ssid]['data'].keys():\n",
    "            d = [rssi_to_distance(r) for r in test_json[ssid]['data'][mac]]\n",
    "            d = mean(d)\n",
    "            rssi_test[mac] += [d]\n",
    "        else:\n",
    "            rssi_test[mac] += [0.0]  # fill NA with 0\n",
    "\n",
    "features_df_test = pd.concat([pd.DataFrame({'timestamp': timestamp_test}), pd.DataFrame(rssi_test)], axis=1)"
   ]
  },
  {
   "cell_type": "code",
   "execution_count": 7,
   "metadata": {
    "pycharm": {
     "name": "#%%\n"
    }
   },
   "outputs": [],
   "source": [
    "# predict\n",
    "# prediction1 = model.predict(features_df_test)\n",
    "prediction2 = model2.predict(features_df_test)\n",
    "prediction3 = model3.predict(features_df_test)"
   ]
  },
  {
   "cell_type": "code",
   "execution_count": 8,
   "outputs": [],
   "source": [
    "prediction = prediction2 * 0.1 + prediction3 * 0.9\n",
    "# prediction = prediction1\n",
    "df_test['locationX'] = prediction[:, 0]\n",
    "df_test['locationY'] = prediction[:, 1]\n",
    "df_test.to_csv('submission.csv', index=False)"
   ],
   "metadata": {
    "collapsed": false,
    "pycharm": {
     "name": "#%%\n"
    }
   }
  },
  {
   "cell_type": "markdown",
   "metadata": {
    "pycharm": {
     "name": "#%% md\n"
    }
   },
   "source": [
    "# Submitting to the CTFSG DataScience Grader\n",
    "ALT-TAB LABS LLP &copy; 2020-2021 All Rights Reserved"
   ]
  },
  {
   "cell_type": "code",
   "execution_count": 9,
   "metadata": {
    "pycharm": {
     "name": "#%%\n"
    }
   },
   "outputs": [
    {
     "name": "stdout",
     "output_type": "stream",
     "text": [
      "DSGraderClient: Successfully Connected!\n",
      "[SERVER] MOTD: CHECK your USER_TOKEN and GRADER_URL HTTP address! I'm WIFI_LOCATION @ed623a2c0b67\n",
      "ProofOfWork Challenge =>  ('CTFSGRBae014fdfc1fe3f3afa973c7a0fcc32e1', 22)\n",
      "ProofOfWork Answer Found! =>  4683687\n"
     ]
    },
    {
     "data": {
      "text/plain": "'{\"challenge\":{\"name\":\"WiFi Triangulation\"},\"id\":\"cl2bs7dmwid5r082710r9yy9k\",\"status\":\"PARTIALLY_CORRECT\",\"multiplier\":0.9996,\"submittedBy\":{\"username\":\"hci-69\"},\"createdAt\":\"2022-04-23T11:31:52Z\"}'"
     },
     "execution_count": 9,
     "metadata": {},
     "output_type": "execute_result"
    }
   ],
   "source": [
    "# Connect to graders\n",
    "import sys\n",
    "# insert at 1, 0 is the script path (or '' in REPL)\n",
    "sys.path.insert(1, 'C:/Users/alien/Documents/PyCharm Projects/Cyberthon 2021/pyctfsglib.py')\n",
    "import pyctfsglib as ctfsg\n",
    "import random\n",
    "\n",
    "USER_TOKEN = \"WrlLCkymxwtgFwRHZsdmKfSwcdqIpnqoXEtRkciVRZJfBJUgcEJoxVZjNTQRdqkR\" # You need to fill this up\n",
    "GRADER_URL = random.choice([\n",
    "  \"http://chals.cyberthon22t.ctf.sg:50401/\",\n",
    "  \"http://chals.cyberthon22t.ctf.sg:50402/\"\n",
    "])\n",
    "\n",
    "grader = ctfsg.DSGraderClient(GRADER_URL, USER_TOKEN)\n",
    "grader.submitFile('submission.csv')"
   ]
  }
 ],
 "metadata": {
  "kernelspec": {
   "display_name": "Python 3",
   "language": "python",
   "name": "python3"
  },
  "language_info": {
   "codemirror_mode": {
    "name": "ipython",
    "version": 3
   },
   "file_extension": ".py",
   "mimetype": "text/x-python",
   "name": "python",
   "nbconvert_exporter": "python",
   "pygments_lexer": "ipython3",
   "version": "3.7.4"
  }
 },
 "nbformat": 4,
 "nbformat_minor": 4
}