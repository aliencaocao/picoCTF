{
 "cells": [
  {
   "cell_type": "code",
   "execution_count": 1,
   "id": "a5a0fbab-9856-4f08-9b89-f65a2489d3c1",
   "metadata": {},
   "outputs": [],
   "source": [
    "# Cyberthon Data Science Training Materials\n",
    "# Author: Ragul Balaji <ragulbalaji@ctf.sg>\n",
    "# Dataset: Public Domain\n",
    "# ALT-TAB LABS LLP (C) 2019-2022"
   ]
  },
  {
   "cell_type": "code",
   "execution_count": 2,
   "id": "62716e64-5f57-495f-b386-37f7f3855e28",
   "metadata": {},
   "outputs": [
    {
     "data": {
      "text/plain": [
       "0    RT @CQualtro: Félicitations #Amazon pour l'exp...\n",
       "1    Nous cherchons à résoudre les enjeux qui compt...\n",
       "2    Heading into the 12 days with great negotiatin...\n",
       "3    The long anticipated release of the #JFKFiles ...\n",
       "4    ....for the Middle Class. The House and Senate...\n",
       "Name: status, dtype: object"
      ]
     },
     "execution_count": 2,
     "metadata": {},
     "output_type": "execute_result"
    }
   ],
   "source": [
    "# load in dataset\n",
    "import pandas as pd\n",
    "trainset = pd.read_csv(\"train.csv\")\n",
    "trainset['status'].head()"
   ]
  },
  {
   "cell_type": "code",
   "execution_count": 3,
   "id": "5d2c4822-62dc-4ea9-af13-e0b3c7b2c595",
   "metadata": {},
   "outputs": [
    {
     "name": "stdout",
     "output_type": "stream",
     "text": [
      "Mentions --> ['@CQualtro', '@NavdeepSBains', '@googlecanada', '@HarjitSajjan', '@SevaFoodBank', '@parti_liberal', '@Val_Plante', '@foxandfriends', '@RajLiberal', '@PChowka', '@VeteransENG_CA', '@cathmckenna', '@Val_Plante', '@PattyHajdu', '@FoxNews', '@SpeakerRyan']\n",
      "\n",
      "\n",
      "URLs --> ['https://t.co/zWybCBjjy7', 'https://t.co/4HnXkR3EhW', 'https://t.co/WxL4BZFaDP', 'https://t.co/bPmeYwoMhU', 'https://t.co/ExRBdQnJru', 'https://t.co/8RCRwCvRkE', 'https://t.co/ATNSPrULpc', 'https://t.co/ICDMCZregu', 'https://t.co/UK7RcEN6lB', 'https://t.co/WqDuLr1nyF', 'https://t.co/h8bs4wi6eV', 'https://t.co/DWRkMUNqsU', 'https://t.co/tEmwO2ilaj', 'https://t.co/kdp4zwMYnf', 'https://t.co/nACQerJSiu', 'https://t.co/hk6Z5nC4P9']\n",
      "\n",
      "\n",
      "Hashtags --> ['#Amazon', '#JFKFiles', '#AI', '#jobs', '#ASEAN50', '#LeCanadaseSouvi', '#Day1', '#CanadaRemembers', '#Passchendaele100', '#ANASE', '#OpioidEpidemic', '#NYCStrong', '#APEC2017', '#TaxReform', '#maternit', '#Halloween2017']\n"
     ]
    }
   ],
   "source": [
    "# Task 1: Use RegEx to extract all @mentions, #hashtags and \"https://t.co/\" URLs from train set\n",
    "\n",
    "# useful resources:\n",
    "# https://regexland.com/most-common-regular-expressions/\n",
    "# https://regexone.com\n",
    "# https://regex101.com/\n",
    "\n",
    "import re\n",
    "\n",
    "mentions = []\n",
    "hashtags = []\n",
    "URLs     = []\n",
    "\n",
    "for status in trainset['status']:\n",
    "    mentions.extend(re.findall(r'@[a-zA-Z0-9_]{1,64}', status)) # @\\w{1,64}\n",
    "    hashtags.extend(re.findall(r'#[a-zA-Z0-9_]{1,50}', status)) # #\\w{1,50}\n",
    "    URLs.extend(re.findall(r'https://t.co/[a-zA-Z0-9_]+', status)) # + means to match 1 or more occurences\n",
    "\n",
    "# print only first 16 of each category\n",
    "print('Mentions -->', mentions[:16])\n",
    "print('\\n\\nURLs -->', URLs[:16])\n",
    "print('\\n\\nHashtags -->', hashtags[:16])"
   ]
  },
  {
   "cell_type": "code",
   "execution_count": null,
   "id": "bfd8a0c3-8495-4dc9-b57b-dbc412e05678",
   "metadata": {},
   "outputs": [],
   "source": []
  }
 ],
 "metadata": {
  "kernelspec": {
   "display_name": "Python 3 (ipykernel)",
   "language": "python",
   "name": "python3"
  },
  "language_info": {
   "codemirror_mode": {
    "name": "ipython",
    "version": 3
   },
   "file_extension": ".py",
   "mimetype": "text/x-python",
   "name": "python",
   "nbconvert_exporter": "python",
   "pygments_lexer": "ipython3",
   "version": "3.7.13"
  }
 },
 "nbformat": 4,
 "nbformat_minor": 5
}
