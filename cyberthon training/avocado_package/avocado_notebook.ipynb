{
 "cells": [
  {
   "cell_type": "markdown",
   "metadata": {
    "pycharm": {
     "name": "#%% md\n"
    }
   },
   "source": [
    "# Avocado Data Analysis Notebook\n",
    "ALT-TAB LABS LLP &copy; 2020 All Rights Reserved"
   ]
  },
  {
   "cell_type": "code",
   "execution_count": 1,
   "metadata": {
    "pycharm": {
     "name": "#%%\n"
    }
   },
   "outputs": [],
   "source": [
    "# load csvs\n",
    "import pandas as pd\n",
    "df_train = pd.read_csv('avocado-train.csv', index_col='id')"
   ]
  },
  {
   "cell_type": "code",
   "execution_count": 2,
   "metadata": {
    "scrolled": true,
    "pycharm": {
     "name": "#%%\n"
    }
   },
   "outputs": [
    {
     "data": {
      "text/plain": "          DataBatch   TotalVolume          4046          4225          4770  \\\ncount  12774.000000  1.277400e+04  1.277400e+04  1.277400e+04  1.277400e+04   \nmean      24.160561  8.372151e+05  2.860019e+05  2.937244e+05  2.269924e+04   \nstd       15.506127  3.456893e+06  1.254180e+06  1.221050e+06  1.109128e+05   \nmin        0.000000  3.855500e+02  0.000000e+00  0.000000e+00  0.000000e+00   \n25%       10.000000  1.081454e+04  8.546775e+02  2.963293e+03  0.000000e+00   \n50%       24.000000  1.069675e+05  8.640510e+03  2.893430e+04  1.803650e+02   \n75%       38.000000  4.196674e+05  1.090417e+05  1.436499e+05  6.045980e+03   \nmax       52.000000  5.228870e+07  1.893304e+07  2.047057e+07  2.546439e+06   \n\n          TotalBags     SmallBags     LargeBags     XLargeBags  AveragePrice  \ncount  1.277400e+04  1.277400e+04  1.277400e+04   12774.000000  12774.000000  \nmean   2.347873e+05  1.783168e+05  5.341248e+04    3058.006595      1.407545  \nstd    9.815942e+05  7.427216e+05  2.421722e+05   18243.520401      0.403474  \nmin    0.000000e+00  0.000000e+00  0.000000e+00       0.000000      0.480000  \n25%    5.011590e+03  2.826270e+03  1.229900e+02       0.000000      1.100000  \n50%    3.922292e+04  2.589329e+04  2.603385e+03       0.000000      1.370000  \n75%    1.079063e+05  8.184397e+04  2.142326e+04     113.352500      1.660000  \nmax    1.597249e+07  1.171281e+07  4.081398e+06  551693.650000      3.250000  ",
      "text/html": "<div>\n<style scoped>\n    .dataframe tbody tr th:only-of-type {\n        vertical-align: middle;\n    }\n\n    .dataframe tbody tr th {\n        vertical-align: top;\n    }\n\n    .dataframe thead th {\n        text-align: right;\n    }\n</style>\n<table border=\"1\" class=\"dataframe\">\n  <thead>\n    <tr style=\"text-align: right;\">\n      <th></th>\n      <th>DataBatch</th>\n      <th>TotalVolume</th>\n      <th>4046</th>\n      <th>4225</th>\n      <th>4770</th>\n      <th>TotalBags</th>\n      <th>SmallBags</th>\n      <th>LargeBags</th>\n      <th>XLargeBags</th>\n      <th>AveragePrice</th>\n    </tr>\n  </thead>\n  <tbody>\n    <tr>\n      <th>count</th>\n      <td>12774.000000</td>\n      <td>1.277400e+04</td>\n      <td>1.277400e+04</td>\n      <td>1.277400e+04</td>\n      <td>1.277400e+04</td>\n      <td>1.277400e+04</td>\n      <td>1.277400e+04</td>\n      <td>1.277400e+04</td>\n      <td>12774.000000</td>\n      <td>12774.000000</td>\n    </tr>\n    <tr>\n      <th>mean</th>\n      <td>24.160561</td>\n      <td>8.372151e+05</td>\n      <td>2.860019e+05</td>\n      <td>2.937244e+05</td>\n      <td>2.269924e+04</td>\n      <td>2.347873e+05</td>\n      <td>1.783168e+05</td>\n      <td>5.341248e+04</td>\n      <td>3058.006595</td>\n      <td>1.407545</td>\n    </tr>\n    <tr>\n      <th>std</th>\n      <td>15.506127</td>\n      <td>3.456893e+06</td>\n      <td>1.254180e+06</td>\n      <td>1.221050e+06</td>\n      <td>1.109128e+05</td>\n      <td>9.815942e+05</td>\n      <td>7.427216e+05</td>\n      <td>2.421722e+05</td>\n      <td>18243.520401</td>\n      <td>0.403474</td>\n    </tr>\n    <tr>\n      <th>min</th>\n      <td>0.000000</td>\n      <td>3.855500e+02</td>\n      <td>0.000000e+00</td>\n      <td>0.000000e+00</td>\n      <td>0.000000e+00</td>\n      <td>0.000000e+00</td>\n      <td>0.000000e+00</td>\n      <td>0.000000e+00</td>\n      <td>0.000000</td>\n      <td>0.480000</td>\n    </tr>\n    <tr>\n      <th>25%</th>\n      <td>10.000000</td>\n      <td>1.081454e+04</td>\n      <td>8.546775e+02</td>\n      <td>2.963293e+03</td>\n      <td>0.000000e+00</td>\n      <td>5.011590e+03</td>\n      <td>2.826270e+03</td>\n      <td>1.229900e+02</td>\n      <td>0.000000</td>\n      <td>1.100000</td>\n    </tr>\n    <tr>\n      <th>50%</th>\n      <td>24.000000</td>\n      <td>1.069675e+05</td>\n      <td>8.640510e+03</td>\n      <td>2.893430e+04</td>\n      <td>1.803650e+02</td>\n      <td>3.922292e+04</td>\n      <td>2.589329e+04</td>\n      <td>2.603385e+03</td>\n      <td>0.000000</td>\n      <td>1.370000</td>\n    </tr>\n    <tr>\n      <th>75%</th>\n      <td>38.000000</td>\n      <td>4.196674e+05</td>\n      <td>1.090417e+05</td>\n      <td>1.436499e+05</td>\n      <td>6.045980e+03</td>\n      <td>1.079063e+05</td>\n      <td>8.184397e+04</td>\n      <td>2.142326e+04</td>\n      <td>113.352500</td>\n      <td>1.660000</td>\n    </tr>\n    <tr>\n      <th>max</th>\n      <td>52.000000</td>\n      <td>5.228870e+07</td>\n      <td>1.893304e+07</td>\n      <td>2.047057e+07</td>\n      <td>2.546439e+06</td>\n      <td>1.597249e+07</td>\n      <td>1.171281e+07</td>\n      <td>4.081398e+06</td>\n      <td>551693.650000</td>\n      <td>3.250000</td>\n    </tr>\n  </tbody>\n</table>\n</div>"
     },
     "execution_count": 2,
     "metadata": {},
     "output_type": "execute_result"
    }
   ],
   "source": [
    "# View the data!\n",
    "df_train.head()\n",
    "df_train.describe()"
   ]
  },
  {
   "cell_type": "code",
   "execution_count": 3,
   "metadata": {
    "pycharm": {
     "name": "#%%\n"
    }
   },
   "outputs": [
    {
     "name": "stdout",
     "output_type": "stream",
     "text": [
      "{'NewOrleansMobile': 1, 'HarrisburgScranton': 2, 'Atlanta': 3, 'BuffaloRochester': 4, 'Pittsburgh': 5, 'Jacksonville': 6, 'Columbus': 7, 'Denver': 8, 'West': 9, 'DallasFtWorth': 10, 'Syracuse': 11, 'GrandRapids': 12, 'Detroit': 13, 'GreatLakes': 14, 'MiamiFtLauderdale': 15, 'SouthCentral': 16, 'NewYork': 17, 'HartfordSpringfield': 18, 'Sacramento': 19, 'Boston': 20, 'RaleighGreensboro': 21, 'TotalUS': 22, 'Roanoke': 23, 'Philadelphia': 24, 'Spokane': 25, 'LosAngeles': 26, 'Nashville': 27, 'NorthernNewEngland': 28, 'Chicago': 29, 'Houston': 30, 'Plains': 31, 'BaltimoreWashington': 32, 'CincinnatiDayton': 33, 'WestTexNewMexico': 34, 'Portland': 35, 'StLouis': 36, 'Southeast': 37, 'Seattle': 38, 'SouthCarolina': 39, 'Tampa': 40, 'California': 41, 'Northeast': 42, 'Orlando': 43, 'Charlotte': 44, 'LasVegas': 45, 'SanDiego': 46, 'Boise': 47, 'PhoenixTucson': 48, 'Albany': 49, 'RichmondNorfolk': 50, 'Indianapolis': 51, 'Louisville': 52, 'SanFrancisco': 53, 'Midsouth': 54}\n"
     ]
    }
   ],
   "source": [
    "# Clean Data\n",
    "\n",
    "# Drops missing values \n",
    "df_train = df_train.dropna(axis=0)\n",
    "\n",
    "# Convert strings to numbers\n",
    "types = {'conventional': 0, 'organic': 1}\n",
    "df_train.type = [types[x] for x in df_train.type]\n",
    "regions = df_train.region.unique()\n",
    "regionDict = {}\n",
    "id=1\n",
    "for region in regions:\n",
    "    regionDict[region] = id\n",
    "    id+=1\n",
    "print(regionDict)\n",
    "df_train.region = [regionDict[x] for x in df_train.region]\n",
    "\n",
    "# Read more advanced ways to clean data\n",
    "# https://scikit-learn.org/stable/modules/generated/sklearn.preprocessing.LabelEncoder.html\n",
    "# https://stackoverflow.com/questions/24458645/label-encoding-across-multiple-columns-in-scikit-learn"
   ]
  },
  {
   "cell_type": "code",
   "execution_count": 4,
   "metadata": {
    "pycharm": {
     "name": "#%%\n"
    }
   },
   "outputs": [
    {
     "name": "stderr",
     "output_type": "stream",
     "text": [
      "C:\\Users\\alien\\AppData\\Local\\Temp\\ipykernel_3344\\450733292.py:10: SettingWithCopyWarning: \n",
      "A value is trying to be set on a copy of a slice from a DataFrame.\n",
      "Try using .loc[row_indexer,col_indexer] = value instead\n",
      "\n",
      "See the caveats in the documentation: https://pandas.pydata.org/pandas-docs/stable/user_guide/indexing.html#returning-a-view-versus-a-copy\n",
      "  X['Date'] = X['Date'].apply(clean_date)\n"
     ]
    }
   ],
   "source": [
    "# Select data for learning\n",
    "# features = ['DataBatch','TotalVolume','4046','4225','4770','TotalBags','SmallBags','LargeBags','type','region', 'year', 'month', 'day']\n",
    "features = ['DataBatch','Date','TotalVolume','4046','4225','4770','TotalBags','SmallBags','LargeBags','type', 'region']\n",
    "target = 'AveragePrice'\n",
    "\n",
    "def clean_date(x):\n",
    "    return x.replace('-','')\n",
    "\n",
    "X = df_train[features]\n",
    "X['Date'] = X['Date'].apply(clean_date)\n",
    "y = df_train[target]"
   ]
  },
  {
   "cell_type": "code",
   "execution_count": 5,
   "outputs": [
    {
     "name": "stdout",
     "output_type": "stream",
     "text": [
      "11\n"
     ]
    }
   ],
   "source": [
    "print(len(X.columns))"
   ],
   "metadata": {
    "collapsed": false,
    "pycharm": {
     "name": "#%%\n"
    }
   }
  },
  {
   "cell_type": "markdown",
   "metadata": {
    "pycharm": {
     "name": "#%% md\n"
    }
   },
   "source": [
    "# Regression Time!"
   ]
  },
  {
   "cell_type": "code",
   "execution_count": 72,
   "metadata": {
    "pycharm": {
     "name": "#%%\n"
    }
   },
   "outputs": [],
   "source": [
    "# Sci Kit Learn! Scientific Computing library for python\n",
    "from sklearn import *\n",
    "# Pick the regression model we want to use\n",
    "\n",
    "# Random Forest Regression\n",
    "# https://scikit-learn.org/stable/modules/generated/sklearn.ensemble.RandomForestRegressor.html\n",
    "model1 = ensemble.ExtraTreesRegressor(random_state=2022, n_estimators=4000, criterion='squared_error', verbose=1, n_jobs=16)  # 931\n",
    "model2 = ensemble.GradientBoostingRegressor(random_state=2022, n_estimators=3000, verbose=1, criterion='squared_error')  # 9107\n",
    "model3 = ensemble.RandomForestRegressor(n_estimators=3000, criterion='squared_error', n_jobs=16, verbose=1)  # 9145\n",
    "model4 = ensemble.HistGradientBoostingRegressor(loss='squared_error', max_iter=5000, early_stopping=False, scoring='loss', verbose=1, categorical_features=[9, 10], max_leaf_nodes=26)  #9429\n",
    "\n",
    "# average of model1 and 4 is 9447\n",
    "# average of model1, 3 and 4 is 9393\n",
    "\n",
    "final_model = ensemble.HistGradientBoostingRegressor(loss='squared_error', max_iter=1000, early_stopping=False, scoring='loss', verbose=1)\n",
    "\n",
    "# model = ensemble.AdaBoostRegressor(base_estimator=model, n_estimators=10)"
   ]
  },
  {
   "cell_type": "code",
   "execution_count": 75,
   "metadata": {
    "pycharm": {
     "name": "#%%\n"
    }
   },
   "outputs": [
    {
     "name": "stderr",
     "output_type": "stream",
     "text": [
      "[Parallel(n_jobs=16)]: Using backend ThreadingBackend with 16 concurrent workers.\n",
      "[Parallel(n_jobs=16)]: Done  18 tasks      | elapsed:    0.0s\n",
      "[Parallel(n_jobs=16)]: Done 168 tasks      | elapsed:    0.3s\n",
      "[Parallel(n_jobs=16)]: Done 418 tasks      | elapsed:    0.9s\n",
      "[Parallel(n_jobs=16)]: Done 768 tasks      | elapsed:    1.7s\n",
      "[Parallel(n_jobs=16)]: Done 1218 tasks      | elapsed:    2.7s\n",
      "[Parallel(n_jobs=16)]: Done 1768 tasks      | elapsed:    3.9s\n",
      "[Parallel(n_jobs=16)]: Done 2418 tasks      | elapsed:    5.3s\n",
      "[Parallel(n_jobs=16)]: Done 3168 tasks      | elapsed:    7.0s\n",
      "[Parallel(n_jobs=16)]: Done 4000 out of 4000 | elapsed:    8.9s finished\n"
     ]
    },
    {
     "data": {
      "text/plain": "ExtraTreesRegressor(n_estimators=4000, n_jobs=16, random_state=2022, verbose=1)"
     },
     "execution_count": 75,
     "metadata": {},
     "output_type": "execute_result"
    }
   ],
   "source": [
    "# Perform regression on the data\n",
    "model1.fit(X, y)\n",
    "# model2.fit(X, y)\n",
    "# model3.fit(X, y)\n",
    "model4.fit(X, y)"
   ]
  },
  {
   "cell_type": "code",
   "execution_count": 71,
   "outputs": [
    {
     "data": {
      "text/plain": "array([0.071304  , 0.11226538, 0.03798972, 0.06524337, 0.05384677,\n       0.03036349, 0.04355542, 0.03642318, 0.07763751, 0.38407292,\n       0.08729822])"
     },
     "execution_count": 71,
     "metadata": {},
     "output_type": "execute_result"
    }
   ],
   "source": [
    "model1.feature_importances_"
   ],
   "metadata": {
    "collapsed": false,
    "pycharm": {
     "name": "#%%\n"
    }
   }
  },
  {
   "cell_type": "code",
   "execution_count": 179,
   "metadata": {
    "pycharm": {
     "name": "#%%\n"
    }
   },
   "outputs": [
    {
     "data": {
      "text/plain": "0.002499165795623077"
     },
     "execution_count": 179,
     "metadata": {},
     "output_type": "execute_result"
    }
   ],
   "source": [
    "# Score model\n",
    "from sklearn.metrics import mean_squared_error\n",
    "mean_squared_error(ytest, model.predict(Xtest)) #TODO TODO TODO TODO TODO TODO TODO TODO"
   ]
  },
  {
   "cell_type": "markdown",
   "metadata": {
    "pycharm": {
     "name": "#%% md\n"
    }
   },
   "source": [
    "# Predict for Testing data"
   ]
  },
  {
   "cell_type": "code",
   "execution_count": 8,
   "metadata": {
    "pycharm": {
     "name": "#%%\n"
    }
   },
   "outputs": [],
   "source": [
    "df_test = pd.read_csv('avocado-test.csv', index_col='id')\n",
    "# Clean Data\n",
    "\n",
    "# Drops missing values\n",
    "df_test = df_test.dropna(axis=0)\n",
    "\n",
    "# Convert strings to numbers\n",
    "types = {'conventional': 0, 'organic': 1}\n",
    "df_test.type = [types[x] for x in df_test.type]\n",
    "regions = df_test.region.unique()\n",
    "for region in regions:\n",
    "    if region not in regionDict.keys():\n",
    "        regionDict[region] = 0\n",
    "df_test.region = [regionDict[x] for x in df_test.region]\n",
    "# Read more advanced ways to clean data\n",
    "# https://scikit-learn.org/stable/modules/generated/sklearn.preprocessing.LabelEncoder.html\n",
    "# https://stackoverflow.com/questions/24458645/label-encoding-across-multiple-columns-in-scikit-learn"
   ]
  },
  {
   "cell_type": "code",
   "execution_count": 9,
   "metadata": {
    "pycharm": {
     "name": "#%%\n"
    }
   },
   "outputs": [
    {
     "name": "stderr",
     "output_type": "stream",
     "text": [
      "C:\\Users\\alien\\AppData\\Local\\Temp\\ipykernel_3344\\3745898554.py:3: SettingWithCopyWarning: \n",
      "A value is trying to be set on a copy of a slice from a DataFrame.\n",
      "Try using .loc[row_indexer,col_indexer] = value instead\n",
      "\n",
      "See the caveats in the documentation: https://pandas.pydata.org/pandas-docs/stable/user_guide/indexing.html#returning-a-view-versus-a-copy\n",
      "  XforPredictions['Date'] = XforPredictions['Date'].apply(clean_date)\n"
     ]
    },
    {
     "data": {
      "text/plain": "    DataBatch      Date  TotalVolume     4046       4225     4770  TotalBags  \\\nid                                                                             \n0          21  20160731     28969.34    80.77   27361.91     0.00    1526.66   \n1          19  20170820    322962.89  5632.85  242365.82  2441.56   72522.66   \n2          49  20170122    155334.45  3657.79   74068.65     0.00   77608.01   \n3          12  20151004     10231.74   341.89    8519.00     0.00    1370.85   \n4          10  20151018     10652.02  6905.95      39.52     0.00    3706.55   \n\n    SmallBags  LargeBags  type  region  \nid                                      \n0     1526.66       0.00     1      29  \n1    22942.48   46083.51     0      28  \n2    27302.29   50305.72     1      14  \n3      303.33    1067.52     1      33  \n4     3706.55       0.00     1      30  ",
      "text/html": "<div>\n<style scoped>\n    .dataframe tbody tr th:only-of-type {\n        vertical-align: middle;\n    }\n\n    .dataframe tbody tr th {\n        vertical-align: top;\n    }\n\n    .dataframe thead th {\n        text-align: right;\n    }\n</style>\n<table border=\"1\" class=\"dataframe\">\n  <thead>\n    <tr style=\"text-align: right;\">\n      <th></th>\n      <th>DataBatch</th>\n      <th>Date</th>\n      <th>TotalVolume</th>\n      <th>4046</th>\n      <th>4225</th>\n      <th>4770</th>\n      <th>TotalBags</th>\n      <th>SmallBags</th>\n      <th>LargeBags</th>\n      <th>type</th>\n      <th>region</th>\n    </tr>\n    <tr>\n      <th>id</th>\n      <th></th>\n      <th></th>\n      <th></th>\n      <th></th>\n      <th></th>\n      <th></th>\n      <th></th>\n      <th></th>\n      <th></th>\n      <th></th>\n      <th></th>\n    </tr>\n  </thead>\n  <tbody>\n    <tr>\n      <th>0</th>\n      <td>21</td>\n      <td>20160731</td>\n      <td>28969.34</td>\n      <td>80.77</td>\n      <td>27361.91</td>\n      <td>0.00</td>\n      <td>1526.66</td>\n      <td>1526.66</td>\n      <td>0.00</td>\n      <td>1</td>\n      <td>29</td>\n    </tr>\n    <tr>\n      <th>1</th>\n      <td>19</td>\n      <td>20170820</td>\n      <td>322962.89</td>\n      <td>5632.85</td>\n      <td>242365.82</td>\n      <td>2441.56</td>\n      <td>72522.66</td>\n      <td>22942.48</td>\n      <td>46083.51</td>\n      <td>0</td>\n      <td>28</td>\n    </tr>\n    <tr>\n      <th>2</th>\n      <td>49</td>\n      <td>20170122</td>\n      <td>155334.45</td>\n      <td>3657.79</td>\n      <td>74068.65</td>\n      <td>0.00</td>\n      <td>77608.01</td>\n      <td>27302.29</td>\n      <td>50305.72</td>\n      <td>1</td>\n      <td>14</td>\n    </tr>\n    <tr>\n      <th>3</th>\n      <td>12</td>\n      <td>20151004</td>\n      <td>10231.74</td>\n      <td>341.89</td>\n      <td>8519.00</td>\n      <td>0.00</td>\n      <td>1370.85</td>\n      <td>303.33</td>\n      <td>1067.52</td>\n      <td>1</td>\n      <td>33</td>\n    </tr>\n    <tr>\n      <th>4</th>\n      <td>10</td>\n      <td>20151018</td>\n      <td>10652.02</td>\n      <td>6905.95</td>\n      <td>39.52</td>\n      <td>0.00</td>\n      <td>3706.55</td>\n      <td>3706.55</td>\n      <td>0.00</td>\n      <td>1</td>\n      <td>30</td>\n    </tr>\n  </tbody>\n</table>\n</div>"
     },
     "execution_count": 9,
     "metadata": {},
     "output_type": "execute_result"
    }
   ],
   "source": [
    "# Select features\n",
    "XforPredictions = df_test[features] #TODO TODO TODO TODO TODO TODO TODO TODO\n",
    "XforPredictions['Date'] = XforPredictions['Date'].apply(clean_date)\n",
    "XforPredictions.head()"
   ]
  },
  {
   "cell_type": "code",
   "execution_count": 76,
   "metadata": {
    "pycharm": {
     "name": "#%%\n"
    }
   },
   "outputs": [
    {
     "name": "stderr",
     "output_type": "stream",
     "text": [
      "[Parallel(n_jobs=16)]: Using backend ThreadingBackend with 16 concurrent workers.\n",
      "[Parallel(n_jobs=16)]: Done  18 tasks      | elapsed:    0.0s\n",
      "[Parallel(n_jobs=16)]: Done 168 tasks      | elapsed:    0.0s\n",
      "[Parallel(n_jobs=16)]: Done 418 tasks      | elapsed:    0.0s\n",
      "[Parallel(n_jobs=16)]: Done 768 tasks      | elapsed:    0.0s\n",
      "[Parallel(n_jobs=16)]: Done 1218 tasks      | elapsed:    0.1s\n",
      "[Parallel(n_jobs=16)]: Done 1768 tasks      | elapsed:    0.1s\n",
      "[Parallel(n_jobs=16)]: Done 2418 tasks      | elapsed:    0.2s\n",
      "[Parallel(n_jobs=16)]: Done 3168 tasks      | elapsed:    0.3s\n",
      "[Parallel(n_jobs=16)]: Done 4000 out of 4000 | elapsed:    0.4s finished\n"
     ]
    }
   ],
   "source": [
    "# Make Predictions!\n",
    "import numpy as np\n",
    "yPredictions1 = model1.predict(XforPredictions) #TODO TODO TODO TODO TODO TODO TODO TODO\n",
    "yPredictions4 = model4.predict(XforPredictions) #TODO TODO TODO TODO TODO TODO TODO TODO"
   ]
  },
  {
   "cell_type": "code",
   "execution_count": 107,
   "outputs": [
    {
     "name": "stdout",
     "output_type": "stream",
     "text": [
      "Predictions: [2.012291   1.7080887  1.21093556 ... 1.58768202 1.82278366 1.58871122]\n"
     ]
    },
    {
     "data": {
      "text/plain": "(array([  69.,  516., 1279., 1208., 1125.,  780.,  306.,  130.,   43.,\n          19.]),\n array([0.46455727, 0.70897799, 0.95339872, 1.19781944, 1.44224017,\n        1.68666089, 1.93108162, 2.17550234, 2.41992307, 2.66434379,\n        2.90876452]),\n <BarContainer object of 10 artists>)"
     },
     "execution_count": 107,
     "metadata": {},
     "output_type": "execute_result"
    },
    {
     "data": {
      "text/plain": "<Figure size 432x288 with 1 Axes>",
      "image/png": "[encoded data removed]"
     },
     "metadata": {
      "needs_background": "light"
     },
     "output_type": "display_data"
    }
   ],
   "source": [
    "# Ensembling\n",
    "# yPredictions = np.mean([yPredictions1, yPredictions4], axis=0)\n",
    "yPredictions = yPredictions1 * 0.15 + yPredictions4 * 0.85\n",
    "print(\"Predictions:\", yPredictions)\n",
    "import matplotlib.pyplot as plt\n",
    "plt.hist(yPredictions)"
   ],
   "metadata": {
    "collapsed": false,
    "pycharm": {
     "name": "#%%\n"
    }
   }
  },
  {
   "cell_type": "code",
   "execution_count": 108,
   "metadata": {
    "pycharm": {
     "name": "#%%\n"
    }
   },
   "outputs": [
    {
     "name": "stdout",
     "output_type": "stream",
     "text": [
      "        id  AveragePrice\n",
      "0        0      2.012291\n",
      "1        1      1.708089\n",
      "2        2      1.210936\n",
      "3        3      1.531254\n",
      "4        4      1.528742\n",
      "...    ...           ...\n",
      "5470  5470      1.645487\n",
      "5471  5471      1.288094\n",
      "5472  5472      1.587682\n",
      "5473  5473      1.822784\n",
      "5474  5474      1.588711\n",
      "\n",
      "[5475 rows x 2 columns]\n"
     ]
    }
   ],
   "source": [
    "# Save to CSV File!\n",
    "output = pd.DataFrame({'id': XforPredictions.index, 'AveragePrice': yPredictions})\n",
    "output.to_csv('avocado-submission.csv', index=False)\n",
    "print(output)"
   ]
  },
  {
   "cell_type": "markdown",
   "metadata": {
    "pycharm": {
     "name": "#%% md\n"
    }
   },
   "source": [
    "# Upload for grading"
   ]
  },
  {
   "cell_type": "code",
   "execution_count": 23,
   "metadata": {
    "pycharm": {
     "name": "#%%\n"
    }
   },
   "outputs": [
    {
     "name": "stdout",
     "output_type": "stream",
     "text": [
      "Downloaded pyctfsglib.py: True\n"
     ]
    }
   ],
   "source": [
    "# Download CTFSG Grader Libraries\n",
    "import urllib.request, os\n",
    "urllib.request.urlretrieve('https://raw.githubusercontent.com/alttablabs/ctfsg-utils/master/pyctfsglib.py', './pyctfsglib.py')\n",
    "print('Downloaded pyctfsglib.py:', 'pyctfsglib.py' in os.listdir())"
   ]
  },
  {
   "cell_type": "code",
   "execution_count": 46,
   "metadata": {
    "pycharm": {
     "name": "#%%\n"
    }
   },
   "outputs": [
    {
     "name": "stdout",
     "output_type": "stream",
     "text": [
      "DSGraderClient: Successfully Connected!\n",
      "[SERVER] MOTD: CHECK your USER_TOKEN and GRADER_URL HTTP address! I'm AVOCADO_PRICE @366389bec30e\n"
     ]
    }
   ],
   "source": [
    "# Connect to graders\n",
    "import sys\n",
    "# insert at 1, 0 is the script path (or '' in REPL)\n",
    "sys.path.insert(1, 'C:/Users/alien/Documents/PyCharm Projects/Cyberthon 2021/pyctfsglib.py')\n",
    "import pyctfsglib as ctfsg\n",
    "import random\n",
    "\n",
    "USER_TOKEN = \"WrlLCkymxwtgFwRHZsdmKfSwcdqIpnqoXEtRkciVRZJfBJUgcEJoxVZjNTQRdqkR\" # You need to fill this up\n",
    "GRADER_URL = random.choice([\n",
    "  \"http://chals.cyberthon22t.ctf.sg:50101/\",\n",
    "  \"http://chals.cyberthon22t.ctf.sg:50102/\"\n",
    "])\n",
    "\n",
    "grader = ctfsg.DSGraderClient(GRADER_URL, USER_TOKEN)"
   ]
  },
  {
   "cell_type": "code",
   "execution_count": 109,
   "metadata": {
    "pycharm": {
     "name": "#%%\n"
    }
   },
   "outputs": [
    {
     "name": "stdout",
     "output_type": "stream",
     "text": [
      "ProofOfWork Challenge =>  ('CTFSGRB72dbc1ed6dfdb3a9f11f0dca0f62e52a', 22)\n",
      "ProofOfWork Answer Found! =>  5025952\n"
     ]
    },
    {
     "data": {
      "text/plain": "'{\"challenge\":{\"name\":\"Avocado Pricing\"},\"id\":\"cl21l1y55b3ra0827ex7yqmko\",\"status\":\"PARTIALLY_CORRECT\",\"multiplier\":0.9568,\"submittedBy\":{\"username\":\"hci-69\"},\"createdAt\":\"2022-04-16T08:13:59Z\"}'"
     },
     "execution_count": 109,
     "metadata": {},
     "output_type": "execute_result"
    }
   ],
   "source": [
    "grader.submitFile('avocado-submission.csv')"
   ]
  }
 ],
 "metadata": {
  "kernelspec": {
   "display_name": "Python 3",
   "language": "python",
   "name": "python3"
  },
  "language_info": {
   "codemirror_mode": {
    "name": "ipython",
    "version": 3
   },
   "file_extension": ".py",
   "mimetype": "text/x-python",
   "name": "python",
   "nbconvert_exporter": "python",
   "pygments_lexer": "ipython3",
   "version": "3.7.4"
  }
 },
 "nbformat": 4,
 "nbformat_minor": 2
}