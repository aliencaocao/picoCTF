{
 "cells": [
  {
   "cell_type": "code",
   "execution_count": 1,
   "metadata": {
    "pycharm": {
     "name": "#%%\n"
    }
   },
   "outputs": [],
   "source": [
    "import sys\n",
    "import re\n",
    "import hashlib\n",
    "# Import needed modules"
   ]
  },
  {
   "cell_type": "code",
   "execution_count": 16,
   "outputs": [
    {
     "data": {
      "text/plain": "False"
     },
     "execution_count": 16,
     "metadata": {},
     "output_type": "execute_result"
    }
   ],
   "source": [
    "line = '13'\n",
    "bool(re.match(\"[a-z]+\", line))"
   ],
   "metadata": {
    "collapsed": false,
    "pycharm": {
     "name": "#%%\n"
    }
   }
  },
  {
   "cell_type": "code",
   "execution_count": 35,
   "metadata": {
    "pycharm": {
     "name": "#%%\n"
    }
   },
   "outputs": [],
   "source": [
    "# Process each line\n",
    "answer = \"\"\n",
    "lines = open('rockyou_processed.txt').readlines()\n",
    "for line in lines:\n",
    "    line = line.rstrip(\"\\n\").lower()\n",
    "    r1 = re.match(\"[a-z]+\", line)\n",
    "    if r1 and r1.group() == line:\n",
    "        answer += \"1\\n\"\n",
    "    else:\n",
    "        r2 = re.match(\"\\d+\", line)\n",
    "        if r2 and r2.group() == line:\n",
    "            answer += \"2\\n\"\n",
    "        else:\n",
    "            r3 = re.match(\"[a-z]+\\d+\", line)\n",
    "            if r3 and r3.group() == line:\n",
    "                answer += \"3\\n\"\n",
    "            else:\n",
    "                answer += \"4\\n\""
   ]
  },
  {
   "cell_type": "code",
   "execution_count": 34,
   "outputs": [],
   "source": [
    "real_ans = open('answer_first100.txt').readlines()\n",
    "answer_split = answer.split(\"\\n\")\n",
    "\n",
    "# find difference between 2 lists\n",
    "for i in range(100):\n",
    "    if int(answer_split[i]) != int(real_ans[i]):\n",
    "        print(lines[i])\n",
    "        print(answer[i])\n",
    "        print(real_ans[i])\n"
   ],
   "metadata": {
    "collapsed": false,
    "pycharm": {
     "name": "#%%\n"
    }
   }
  },
  {
   "cell_type": "code",
   "execution_count": 36,
   "metadata": {
    "scrolled": true,
    "pycharm": {
     "name": "#%%\n"
    }
   },
   "outputs": [
    {
     "name": "stdout",
     "output_type": "stream",
     "text": [
      "5cdd3eca920cb9f7d9836c57917a86aeec7be7eeac11c9e53c74533fba1fb9c2\n"
     ]
    }
   ],
   "source": [
    "# Print the sha256 sum of the answer\n",
    "print(hashlib.sha256(answer.encode('utf-8')).hexdigest())"
   ]
  },
  {
   "cell_type": "markdown",
   "metadata": {
    "pycharm": {
     "name": "#%% md\n"
    }
   },
   "source": [
    "# Submission to CTFSG"
   ]
  },
  {
   "cell_type": "code",
   "execution_count": null,
   "metadata": {
    "pycharm": {
     "name": "#%%\n"
    }
   },
   "outputs": [],
   "source": [
    "# Sumbit as a flag to Cyberthon ctf.sg platform with the format:\n",
    "# Cyberthon{<sha256 hex digest of answer string>}"
   ]
  }
 ],
 "metadata": {
  "kernelspec": {
   "display_name": "Python 3",
   "language": "python",
   "name": "python3"
  },
  "language_info": {
   "codemirror_mode": {
    "name": "ipython",
    "version": 3
   },
   "file_extension": ".py",
   "mimetype": "text/x-python",
   "name": "python",
   "nbconvert_exporter": "python",
   "pygments_lexer": "ipython3",
   "version": "3.7.4"
  }
 },
 "nbformat": 4,
 "nbformat_minor": 2
}